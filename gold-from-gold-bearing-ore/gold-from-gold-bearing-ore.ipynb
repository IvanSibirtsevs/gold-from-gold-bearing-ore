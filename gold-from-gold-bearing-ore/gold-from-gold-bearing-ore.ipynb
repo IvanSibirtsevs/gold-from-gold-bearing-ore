{
 "cells": [
  {
   "cell_type": "markdown",
   "metadata": {},
   "source": [
    "# Description of the project\n",
    "\n",
    "Prepare a prototype machine learning model for Zifra. The company develops solutions for the efficient operation of industrial enterprises.\n",
    "\n",
    "The model should predict the recovery rate of gold from gold ore. You have data with extraction and cleaning parameters at your disposal.\n",
    "\n",
    "The model will help optimize production so as not to launch an enterprise with unprofitable characteristics.\n",
    "\n",
    "I need:\n",
    "\n",
    "1. Prepare data;\n",
    "2. Conduct exploratory data analysis;\n",
    "3. Build and train the model.\n",
    "\n",
    "To complete the project, refer to *pandas*, *matplotlib* and *sklearn.* libraries, their documentation will help you."
   ]
  },
  {
   "cell_type": "markdown",
   "metadata": {},
   "source": [
    "### Content\n",
    "\n",
    "##### 1. Data preparation:\n",
    "* [1.1 Opening files and examining them.](#1-bullet)\n",
    "* [1.2 Verify that the enrichment efficiency is calculated correctly. Calculating it on the training sample for the feature rougher.output.recovery. Finding MAE between calculation and feature value.](#2-bullet)\n",
    "* [1.3 Analysis of features not available in the test set.](#3-bullet)\n",
    "\n",
    "##### Part 2. Data analysis:\n",
    "* [2.1 How does the concentration of metals (Au, Ag, Pb) change at different stages of purification.](#4-bullet)\n",
    "* [2.2 Comparison of the size distribution of raw material granules on the training and test sets.](#5-bullet)\n",
    "* [2.3 Study of the total concentration of all substances at different stages: in raw materials, in roughing and final concentrates.] (#6-bullet)\n",
    "    \n",
    "##### Part 3. Building the model:\n",
    "* [3.1 Function for calculating the final sMAPE.](#7-bullet)\n",
    "* [3.2 Best Model](#8-bullet)\n",
    "\n"
   ]
  },
  {
   "cell_type": "markdown",
   "metadata": {},
   "source": [
    "# 1. Data preparation"
   ]
  },
  {
   "cell_type": "code",
   "execution_count": 1,
   "metadata": {},
   "outputs": [],
   "source": [
    "import pandas as pd\n",
    "import numpy as np\n",
    "from sklearn.preprocessing import OrdinalEncoder \n",
    "from sklearn.model_selection import train_test_split\n",
    "from sklearn.linear_model import LinearRegression\n",
    "from sklearn.metrics import mean_absolute_error\n",
    "from sklearn.ensemble import RandomForestRegressor\n",
    "from sklearn.model_selection import cross_val_score\n",
    "from sklearn.metrics import make_scorer\n",
    "from scipy import stats as st\n",
    "import matplotlib.pyplot as plt\n",
    "import seaborn as sns\n",
    "from sklearn.metrics import f1_score\n",
    "import matplotlib.pyplot as plt\n",
    "import matplotlib"
   ]
  },
  {
   "cell_type": "code",
   "execution_count": 2,
   "metadata": {},
   "outputs": [],
   "source": [
    "data_train = pd.read_csv('/datasets/gold_recovery_train_new.csv')\n",
    "data_test = pd.read_csv('/datasets/gold_recovery_test_new.csv')\n",
    "data_full = pd.read_csv('/datasets/gold_recovery_full_new.csv')\n"
   ]
  },
  {
   "cell_type": "code",
   "execution_count": 3,
   "metadata": {},
   "outputs": [
    {
     "data": {
      "text/plain": [
       "date                                           0\n",
       "primary_cleaner.input.sulfate                  4\n",
       "primary_cleaner.input.depressant               5\n",
       "primary_cleaner.input.feed_size                0\n",
       "primary_cleaner.input.xanthate                 4\n",
       "primary_cleaner.state.floatbank8_a_air         0\n",
       "primary_cleaner.state.floatbank8_a_level       0\n",
       "primary_cleaner.state.floatbank8_b_air         0\n",
       "primary_cleaner.state.floatbank8_b_level       0\n",
       "primary_cleaner.state.floatbank8_c_air         0\n",
       "primary_cleaner.state.floatbank8_c_level       0\n",
       "primary_cleaner.state.floatbank8_d_air         0\n",
       "primary_cleaner.state.floatbank8_d_level       0\n",
       "rougher.input.feed_ag                          0\n",
       "rougher.input.feed_pb                          0\n",
       "rougher.input.feed_rate                        3\n",
       "rougher.input.feed_size                        1\n",
       "rougher.input.feed_sol                        21\n",
       "rougher.input.feed_au                          0\n",
       "rougher.input.floatbank10_sulfate              5\n",
       "rougher.input.floatbank10_xanthate             0\n",
       "rougher.input.floatbank11_sulfate              8\n",
       "rougher.input.floatbank11_xanthate            25\n",
       "rougher.state.floatbank10_a_air                0\n",
       "rougher.state.floatbank10_a_level              0\n",
       "rougher.state.floatbank10_b_air                0\n",
       "rougher.state.floatbank10_b_level              0\n",
       "rougher.state.floatbank10_c_air                0\n",
       "rougher.state.floatbank10_c_level              0\n",
       "rougher.state.floatbank10_d_air                0\n",
       "rougher.state.floatbank10_d_level              0\n",
       "rougher.state.floatbank10_e_air                0\n",
       "rougher.state.floatbank10_e_level              0\n",
       "rougher.state.floatbank10_f_air                0\n",
       "rougher.state.floatbank10_f_level              0\n",
       "secondary_cleaner.state.floatbank2_a_air       3\n",
       "secondary_cleaner.state.floatbank2_a_level     0\n",
       "secondary_cleaner.state.floatbank2_b_air       2\n",
       "secondary_cleaner.state.floatbank2_b_level     0\n",
       "secondary_cleaner.state.floatbank3_a_air       9\n",
       "secondary_cleaner.state.floatbank3_a_level     0\n",
       "secondary_cleaner.state.floatbank3_b_air       0\n",
       "secondary_cleaner.state.floatbank3_b_level     0\n",
       "secondary_cleaner.state.floatbank4_a_air       0\n",
       "secondary_cleaner.state.floatbank4_a_level     0\n",
       "secondary_cleaner.state.floatbank4_b_air       0\n",
       "secondary_cleaner.state.floatbank4_b_level     0\n",
       "secondary_cleaner.state.floatbank5_a_air       0\n",
       "secondary_cleaner.state.floatbank5_a_level     0\n",
       "secondary_cleaner.state.floatbank5_b_air       0\n",
       "secondary_cleaner.state.floatbank5_b_level     0\n",
       "secondary_cleaner.state.floatbank6_a_air       0\n",
       "secondary_cleaner.state.floatbank6_a_level     0\n",
       "dtype: int64"
      ]
     },
     "execution_count": 3,
     "metadata": {},
     "output_type": "execute_result"
    }
   ],
   "source": [
    "data_test.isna().sum()"
   ]
  },
  {
   "cell_type": "code",
   "execution_count": 4,
   "metadata": {
    "scrolled": false
   },
   "outputs": [
    {
     "name": "stdout",
     "output_type": "stream",
     "text": [
      "<class 'pandas.core.frame.DataFrame'>\n",
      "RangeIndex: 14149 entries, 0 to 14148\n",
      "Data columns (total 87 columns):\n",
      " #   Column                                              Non-Null Count  Dtype  \n",
      "---  ------                                              --------------  -----  \n",
      " 0   date                                                14149 non-null  object \n",
      " 1   final.output.concentrate_ag                         14148 non-null  float64\n",
      " 2   final.output.concentrate_pb                         14148 non-null  float64\n",
      " 3   final.output.concentrate_sol                        13938 non-null  float64\n",
      " 4   final.output.concentrate_au                         14149 non-null  float64\n",
      " 5   final.output.recovery                               14149 non-null  float64\n",
      " 6   final.output.tail_ag                                14149 non-null  float64\n",
      " 7   final.output.tail_pb                                14049 non-null  float64\n",
      " 8   final.output.tail_sol                               14144 non-null  float64\n",
      " 9   final.output.tail_au                                14149 non-null  float64\n",
      " 10  primary_cleaner.input.sulfate                       14129 non-null  float64\n",
      " 11  primary_cleaner.input.depressant                    14117 non-null  float64\n",
      " 12  primary_cleaner.input.feed_size                     14149 non-null  float64\n",
      " 13  primary_cleaner.input.xanthate                      14049 non-null  float64\n",
      " 14  primary_cleaner.output.concentrate_ag               14149 non-null  float64\n",
      " 15  primary_cleaner.output.concentrate_pb               14063 non-null  float64\n",
      " 16  primary_cleaner.output.concentrate_sol              13863 non-null  float64\n",
      " 17  primary_cleaner.output.concentrate_au               14149 non-null  float64\n",
      " 18  primary_cleaner.output.tail_ag                      14148 non-null  float64\n",
      " 19  primary_cleaner.output.tail_pb                      14134 non-null  float64\n",
      " 20  primary_cleaner.output.tail_sol                     14103 non-null  float64\n",
      " 21  primary_cleaner.output.tail_au                      14149 non-null  float64\n",
      " 22  primary_cleaner.state.floatbank8_a_air              14145 non-null  float64\n",
      " 23  primary_cleaner.state.floatbank8_a_level            14148 non-null  float64\n",
      " 24  primary_cleaner.state.floatbank8_b_air              14145 non-null  float64\n",
      " 25  primary_cleaner.state.floatbank8_b_level            14148 non-null  float64\n",
      " 26  primary_cleaner.state.floatbank8_c_air              14147 non-null  float64\n",
      " 27  primary_cleaner.state.floatbank8_c_level            14148 non-null  float64\n",
      " 28  primary_cleaner.state.floatbank8_d_air              14146 non-null  float64\n",
      " 29  primary_cleaner.state.floatbank8_d_level            14148 non-null  float64\n",
      " 30  rougher.calculation.sulfate_to_au_concentrate       14148 non-null  float64\n",
      " 31  rougher.calculation.floatbank10_sulfate_to_au_feed  14148 non-null  float64\n",
      " 32  rougher.calculation.floatbank11_sulfate_to_au_feed  14148 non-null  float64\n",
      " 33  rougher.calculation.au_pb_ratio                     14149 non-null  float64\n",
      " 34  rougher.input.feed_ag                               14149 non-null  float64\n",
      " 35  rougher.input.feed_pb                               14049 non-null  float64\n",
      " 36  rougher.input.feed_rate                             14141 non-null  float64\n",
      " 37  rougher.input.feed_size                             14005 non-null  float64\n",
      " 38  rougher.input.feed_sol                              14071 non-null  float64\n",
      " 39  rougher.input.feed_au                               14149 non-null  float64\n",
      " 40  rougher.input.floatbank10_sulfate                   14120 non-null  float64\n",
      " 41  rougher.input.floatbank10_xanthate                  14141 non-null  float64\n",
      " 42  rougher.input.floatbank11_sulfate                   14113 non-null  float64\n",
      " 43  rougher.input.floatbank11_xanthate                  13721 non-null  float64\n",
      " 44  rougher.output.concentrate_ag                       14149 non-null  float64\n",
      " 45  rougher.output.concentrate_pb                       14149 non-null  float64\n",
      " 46  rougher.output.concentrate_sol                      14127 non-null  float64\n",
      " 47  rougher.output.concentrate_au                       14149 non-null  float64\n",
      " 48  rougher.output.recovery                             14149 non-null  float64\n",
      " 49  rougher.output.tail_ag                              14148 non-null  float64\n",
      " 50  rougher.output.tail_pb                              14149 non-null  float64\n",
      " 51  rougher.output.tail_sol                             14149 non-null  float64\n",
      " 52  rougher.output.tail_au                              14149 non-null  float64\n",
      " 53  rougher.state.floatbank10_a_air                     14148 non-null  float64\n",
      " 54  rougher.state.floatbank10_a_level                   14148 non-null  float64\n",
      " 55  rougher.state.floatbank10_b_air                     14148 non-null  float64\n",
      " 56  rougher.state.floatbank10_b_level                   14148 non-null  float64\n",
      " 57  rougher.state.floatbank10_c_air                     14148 non-null  float64\n",
      " 58  rougher.state.floatbank10_c_level                   14148 non-null  float64\n",
      " 59  rougher.state.floatbank10_d_air                     14149 non-null  float64\n",
      " 60  rougher.state.floatbank10_d_level                   14149 non-null  float64\n",
      " 61  rougher.state.floatbank10_e_air                     13713 non-null  float64\n",
      " 62  rougher.state.floatbank10_e_level                   14149 non-null  float64\n",
      " 63  rougher.state.floatbank10_f_air                     14149 non-null  float64\n",
      " 64  rougher.state.floatbank10_f_level                   14149 non-null  float64\n",
      " 65  secondary_cleaner.output.tail_ag                    14147 non-null  float64\n",
      " 66  secondary_cleaner.output.tail_pb                    14139 non-null  float64\n",
      " 67  secondary_cleaner.output.tail_sol                   12544 non-null  float64\n",
      " 68  secondary_cleaner.output.tail_au                    14149 non-null  float64\n",
      " 69  secondary_cleaner.state.floatbank2_a_air            13932 non-null  float64\n",
      " 70  secondary_cleaner.state.floatbank2_a_level          14148 non-null  float64\n",
      " 71  secondary_cleaner.state.floatbank2_b_air            14128 non-null  float64\n",
      " 72  secondary_cleaner.state.floatbank2_b_level          14148 non-null  float64\n",
      " 73  secondary_cleaner.state.floatbank3_a_air            14145 non-null  float64\n",
      " 74  secondary_cleaner.state.floatbank3_a_level          14148 non-null  float64\n",
      " 75  secondary_cleaner.state.floatbank3_b_air            14148 non-null  float64\n",
      " 76  secondary_cleaner.state.floatbank3_b_level          14148 non-null  float64\n",
      " 77  secondary_cleaner.state.floatbank4_a_air            14143 non-null  float64\n",
      " 78  secondary_cleaner.state.floatbank4_a_level          14148 non-null  float64\n",
      " 79  secondary_cleaner.state.floatbank4_b_air            14148 non-null  float64\n",
      " 80  secondary_cleaner.state.floatbank4_b_level          14148 non-null  float64\n",
      " 81  secondary_cleaner.state.floatbank5_a_air            14148 non-null  float64\n",
      " 82  secondary_cleaner.state.floatbank5_a_level          14148 non-null  float64\n",
      " 83  secondary_cleaner.state.floatbank5_b_air            14148 non-null  float64\n",
      " 84  secondary_cleaner.state.floatbank5_b_level          14148 non-null  float64\n",
      " 85  secondary_cleaner.state.floatbank6_a_air            14147 non-null  float64\n",
      " 86  secondary_cleaner.state.floatbank6_a_level          14148 non-null  float64\n",
      "dtypes: float64(86), object(1)\n",
      "memory usage: 9.4+ MB\n",
      "<class 'pandas.core.frame.DataFrame'>\n",
      "RangeIndex: 5290 entries, 0 to 5289\n",
      "Data columns (total 53 columns):\n",
      " #   Column                                      Non-Null Count  Dtype  \n",
      "---  ------                                      --------------  -----  \n",
      " 0   date                                        5290 non-null   object \n",
      " 1   primary_cleaner.input.sulfate               5286 non-null   float64\n",
      " 2   primary_cleaner.input.depressant            5285 non-null   float64\n",
      " 3   primary_cleaner.input.feed_size             5290 non-null   float64\n",
      " 4   primary_cleaner.input.xanthate              5286 non-null   float64\n",
      " 5   primary_cleaner.state.floatbank8_a_air      5290 non-null   float64\n",
      " 6   primary_cleaner.state.floatbank8_a_level    5290 non-null   float64\n",
      " 7   primary_cleaner.state.floatbank8_b_air      5290 non-null   float64\n",
      " 8   primary_cleaner.state.floatbank8_b_level    5290 non-null   float64\n",
      " 9   primary_cleaner.state.floatbank8_c_air      5290 non-null   float64\n",
      " 10  primary_cleaner.state.floatbank8_c_level    5290 non-null   float64\n",
      " 11  primary_cleaner.state.floatbank8_d_air      5290 non-null   float64\n",
      " 12  primary_cleaner.state.floatbank8_d_level    5290 non-null   float64\n",
      " 13  rougher.input.feed_ag                       5290 non-null   float64\n",
      " 14  rougher.input.feed_pb                       5290 non-null   float64\n",
      " 15  rougher.input.feed_rate                     5287 non-null   float64\n",
      " 16  rougher.input.feed_size                     5289 non-null   float64\n",
      " 17  rougher.input.feed_sol                      5269 non-null   float64\n",
      " 18  rougher.input.feed_au                       5290 non-null   float64\n",
      " 19  rougher.input.floatbank10_sulfate           5285 non-null   float64\n",
      " 20  rougher.input.floatbank10_xanthate          5290 non-null   float64\n",
      " 21  rougher.input.floatbank11_sulfate           5282 non-null   float64\n",
      " 22  rougher.input.floatbank11_xanthate          5265 non-null   float64\n",
      " 23  rougher.state.floatbank10_a_air             5290 non-null   float64\n",
      " 24  rougher.state.floatbank10_a_level           5290 non-null   float64\n",
      " 25  rougher.state.floatbank10_b_air             5290 non-null   float64\n",
      " 26  rougher.state.floatbank10_b_level           5290 non-null   float64\n",
      " 27  rougher.state.floatbank10_c_air             5290 non-null   float64\n",
      " 28  rougher.state.floatbank10_c_level           5290 non-null   float64\n",
      " 29  rougher.state.floatbank10_d_air             5290 non-null   float64\n",
      " 30  rougher.state.floatbank10_d_level           5290 non-null   float64\n",
      " 31  rougher.state.floatbank10_e_air             5290 non-null   float64\n",
      " 32  rougher.state.floatbank10_e_level           5290 non-null   float64\n",
      " 33  rougher.state.floatbank10_f_air             5290 non-null   float64\n",
      " 34  rougher.state.floatbank10_f_level           5290 non-null   float64\n",
      " 35  secondary_cleaner.state.floatbank2_a_air    5287 non-null   float64\n",
      " 36  secondary_cleaner.state.floatbank2_a_level  5290 non-null   float64\n",
      " 37  secondary_cleaner.state.floatbank2_b_air    5288 non-null   float64\n",
      " 38  secondary_cleaner.state.floatbank2_b_level  5290 non-null   float64\n",
      " 39  secondary_cleaner.state.floatbank3_a_air    5281 non-null   float64\n",
      " 40  secondary_cleaner.state.floatbank3_a_level  5290 non-null   float64\n",
      " 41  secondary_cleaner.state.floatbank3_b_air    5290 non-null   float64\n",
      " 42  secondary_cleaner.state.floatbank3_b_level  5290 non-null   float64\n",
      " 43  secondary_cleaner.state.floatbank4_a_air    5290 non-null   float64\n",
      " 44  secondary_cleaner.state.floatbank4_a_level  5290 non-null   float64\n",
      " 45  secondary_cleaner.state.floatbank4_b_air    5290 non-null   float64\n",
      " 46  secondary_cleaner.state.floatbank4_b_level  5290 non-null   float64\n",
      " 47  secondary_cleaner.state.floatbank5_a_air    5290 non-null   float64\n",
      " 48  secondary_cleaner.state.floatbank5_a_level  5290 non-null   float64\n",
      " 49  secondary_cleaner.state.floatbank5_b_air    5290 non-null   float64\n",
      " 50  secondary_cleaner.state.floatbank5_b_level  5290 non-null   float64\n",
      " 51  secondary_cleaner.state.floatbank6_a_air    5290 non-null   float64\n",
      " 52  secondary_cleaner.state.floatbank6_a_level  5290 non-null   float64\n",
      "dtypes: float64(52), object(1)\n",
      "memory usage: 2.1+ MB\n",
      "<class 'pandas.core.frame.DataFrame'>\n",
      "RangeIndex: 19439 entries, 0 to 19438\n",
      "Data columns (total 87 columns):\n",
      " #   Column                                              Non-Null Count  Dtype  \n",
      "---  ------                                              --------------  -----  \n",
      " 0   date                                                19439 non-null  object \n",
      " 1   final.output.concentrate_ag                         19438 non-null  float64\n",
      " 2   final.output.concentrate_pb                         19438 non-null  float64\n",
      " 3   final.output.concentrate_sol                        19228 non-null  float64\n",
      " 4   final.output.concentrate_au                         19439 non-null  float64\n",
      " 5   final.output.recovery                               19439 non-null  float64\n",
      " 6   final.output.tail_ag                                19438 non-null  float64\n",
      " 7   final.output.tail_pb                                19338 non-null  float64\n",
      " 8   final.output.tail_sol                               19433 non-null  float64\n",
      " 9   final.output.tail_au                                19439 non-null  float64\n",
      " 10  primary_cleaner.input.sulfate                       19415 non-null  float64\n",
      " 11  primary_cleaner.input.depressant                    19402 non-null  float64\n",
      " 12  primary_cleaner.input.feed_size                     19439 non-null  float64\n",
      " 13  primary_cleaner.input.xanthate                      19335 non-null  float64\n",
      " 14  primary_cleaner.output.concentrate_ag               19439 non-null  float64\n",
      " 15  primary_cleaner.output.concentrate_pb               19323 non-null  float64\n",
      " 16  primary_cleaner.output.concentrate_sol              19069 non-null  float64\n",
      " 17  primary_cleaner.output.concentrate_au               19439 non-null  float64\n",
      " 18  primary_cleaner.output.tail_ag                      19435 non-null  float64\n",
      " 19  primary_cleaner.output.tail_pb                      19418 non-null  float64\n",
      " 20  primary_cleaner.output.tail_sol                     19377 non-null  float64\n",
      " 21  primary_cleaner.output.tail_au                      19439 non-null  float64\n",
      " 22  primary_cleaner.state.floatbank8_a_air              19435 non-null  float64\n",
      " 23  primary_cleaner.state.floatbank8_a_level            19438 non-null  float64\n",
      " 24  primary_cleaner.state.floatbank8_b_air              19435 non-null  float64\n",
      " 25  primary_cleaner.state.floatbank8_b_level            19438 non-null  float64\n",
      " 26  primary_cleaner.state.floatbank8_c_air              19437 non-null  float64\n",
      " 27  primary_cleaner.state.floatbank8_c_level            19438 non-null  float64\n",
      " 28  primary_cleaner.state.floatbank8_d_air              19436 non-null  float64\n",
      " 29  primary_cleaner.state.floatbank8_d_level            19438 non-null  float64\n",
      " 30  rougher.calculation.sulfate_to_au_concentrate       19437 non-null  float64\n",
      " 31  rougher.calculation.floatbank10_sulfate_to_au_feed  19437 non-null  float64\n",
      " 32  rougher.calculation.floatbank11_sulfate_to_au_feed  19437 non-null  float64\n",
      " 33  rougher.calculation.au_pb_ratio                     19439 non-null  float64\n",
      " 34  rougher.input.feed_ag                               19439 non-null  float64\n",
      " 35  rougher.input.feed_pb                               19339 non-null  float64\n",
      " 36  rougher.input.feed_rate                             19428 non-null  float64\n",
      " 37  rougher.input.feed_size                             19294 non-null  float64\n",
      " 38  rougher.input.feed_sol                              19340 non-null  float64\n",
      " 39  rougher.input.feed_au                               19439 non-null  float64\n",
      " 40  rougher.input.floatbank10_sulfate                   19405 non-null  float64\n",
      " 41  rougher.input.floatbank10_xanthate                  19431 non-null  float64\n",
      " 42  rougher.input.floatbank11_sulfate                   19395 non-null  float64\n",
      " 43  rougher.input.floatbank11_xanthate                  18986 non-null  float64\n",
      " 44  rougher.output.concentrate_ag                       19439 non-null  float64\n",
      " 45  rougher.output.concentrate_pb                       19439 non-null  float64\n",
      " 46  rougher.output.concentrate_sol                      19416 non-null  float64\n",
      " 47  rougher.output.concentrate_au                       19439 non-null  float64\n",
      " 48  rougher.output.recovery                             19439 non-null  float64\n",
      " 49  rougher.output.tail_ag                              19438 non-null  float64\n",
      " 50  rougher.output.tail_pb                              19439 non-null  float64\n",
      " 51  rougher.output.tail_sol                             19439 non-null  float64\n",
      " 52  rougher.output.tail_au                              19439 non-null  float64\n",
      " 53  rougher.state.floatbank10_a_air                     19438 non-null  float64\n",
      " 54  rougher.state.floatbank10_a_level                   19438 non-null  float64\n",
      " 55  rougher.state.floatbank10_b_air                     19438 non-null  float64\n",
      " 56  rougher.state.floatbank10_b_level                   19438 non-null  float64\n",
      " 57  rougher.state.floatbank10_c_air                     19438 non-null  float64\n",
      " 58  rougher.state.floatbank10_c_level                   19438 non-null  float64\n",
      " 59  rougher.state.floatbank10_d_air                     19439 non-null  float64\n",
      " 60  rougher.state.floatbank10_d_level                   19439 non-null  float64\n",
      " 61  rougher.state.floatbank10_e_air                     19003 non-null  float64\n",
      " 62  rougher.state.floatbank10_e_level                   19439 non-null  float64\n",
      " 63  rougher.state.floatbank10_f_air                     19439 non-null  float64\n",
      " 64  rougher.state.floatbank10_f_level                   19439 non-null  float64\n",
      " 65  secondary_cleaner.output.tail_ag                    19437 non-null  float64\n",
      " 66  secondary_cleaner.output.tail_pb                    19427 non-null  float64\n",
      " 67  secondary_cleaner.output.tail_sol                   17691 non-null  float64\n",
      " 68  secondary_cleaner.output.tail_au                    19439 non-null  float64\n",
      " 69  secondary_cleaner.state.floatbank2_a_air            19219 non-null  float64\n",
      " 70  secondary_cleaner.state.floatbank2_a_level          19438 non-null  float64\n",
      " 71  secondary_cleaner.state.floatbank2_b_air            19416 non-null  float64\n",
      " 72  secondary_cleaner.state.floatbank2_b_level          19438 non-null  float64\n",
      " 73  secondary_cleaner.state.floatbank3_a_air            19426 non-null  float64\n",
      " 74  secondary_cleaner.state.floatbank3_a_level          19438 non-null  float64\n",
      " 75  secondary_cleaner.state.floatbank3_b_air            19438 non-null  float64\n",
      " 76  secondary_cleaner.state.floatbank3_b_level          19438 non-null  float64\n",
      " 77  secondary_cleaner.state.floatbank4_a_air            19433 non-null  float64\n",
      " 78  secondary_cleaner.state.floatbank4_a_level          19438 non-null  float64\n",
      " 79  secondary_cleaner.state.floatbank4_b_air            19438 non-null  float64\n",
      " 80  secondary_cleaner.state.floatbank4_b_level          19438 non-null  float64\n",
      " 81  secondary_cleaner.state.floatbank5_a_air            19438 non-null  float64\n",
      " 82  secondary_cleaner.state.floatbank5_a_level          19438 non-null  float64\n",
      " 83  secondary_cleaner.state.floatbank5_b_air            19438 non-null  float64\n",
      " 84  secondary_cleaner.state.floatbank5_b_level          19438 non-null  float64\n",
      " 85  secondary_cleaner.state.floatbank6_a_air            19437 non-null  float64\n",
      " 86  secondary_cleaner.state.floatbank6_a_level          19438 non-null  float64\n",
      "dtypes: float64(86), object(1)\n",
      "memory usage: 12.9+ MB\n"
     ]
    }
   ],
   "source": [
    "# find out the type of the value\n",
    "data_train.info()\n",
    "data_test.info()\n",
    "data_full.info()\n",
    "\n",
    "\n",
    "# remove and replace nan\n",
    "mean_values = data_train.mean()\n",
    "\n",
    "data_train.dropna(subset = ['rougher.output.recovery', 'final.output.recovery'], inplace = True)\n",
    "data_train = data_train.fillna(mean_values)\n",
    "\n",
    "data_full.dropna(subset = ['rougher.output.recovery', 'final.output.recovery'], inplace = True)\n",
    "data_full = data_full.fillna(mean_values)\n",
    "\n",
    "data_test = data_test.fillna(mean_values) ### extra\n",
    "\n",
    "data_test_new = data_test.merge(data_full[['date', 'rougher.output.recovery', 'final.output.recovery']], how='left', on='date')\n",
    "data_test_new.dropna(subset = ['rougher.output.recovery', 'final.output.recovery'], inplace = True)\n",
    "data_test_new = data_test_new.fillna(mean_values)\n",
    "\n",
    "# delete dates\n",
    "data_train = data_train.drop('date', axis=1)\n",
    "data_test = data_test.drop('date', axis=1)\n",
    "data_full = data_full.drop('date', axis=1)\n",
    "\n"
   ]
  },
  {
   "cell_type": "code",
   "execution_count": 5,
   "metadata": {},
   "outputs": [
    {
     "data": {
      "text/plain": [
       "primary_cleaner.input.sulfate                 0\n",
       "primary_cleaner.input.depressant              0\n",
       "primary_cleaner.input.feed_size               0\n",
       "primary_cleaner.input.xanthate                0\n",
       "primary_cleaner.state.floatbank8_a_air        0\n",
       "primary_cleaner.state.floatbank8_a_level      0\n",
       "primary_cleaner.state.floatbank8_b_air        0\n",
       "primary_cleaner.state.floatbank8_b_level      0\n",
       "primary_cleaner.state.floatbank8_c_air        0\n",
       "primary_cleaner.state.floatbank8_c_level      0\n",
       "primary_cleaner.state.floatbank8_d_air        0\n",
       "primary_cleaner.state.floatbank8_d_level      0\n",
       "rougher.input.feed_ag                         0\n",
       "rougher.input.feed_pb                         0\n",
       "rougher.input.feed_rate                       0\n",
       "rougher.input.feed_size                       0\n",
       "rougher.input.feed_sol                        0\n",
       "rougher.input.feed_au                         0\n",
       "rougher.input.floatbank10_sulfate             0\n",
       "rougher.input.floatbank10_xanthate            0\n",
       "rougher.input.floatbank11_sulfate             0\n",
       "rougher.input.floatbank11_xanthate            0\n",
       "rougher.state.floatbank10_a_air               0\n",
       "rougher.state.floatbank10_a_level             0\n",
       "rougher.state.floatbank10_b_air               0\n",
       "rougher.state.floatbank10_b_level             0\n",
       "rougher.state.floatbank10_c_air               0\n",
       "rougher.state.floatbank10_c_level             0\n",
       "rougher.state.floatbank10_d_air               0\n",
       "rougher.state.floatbank10_d_level             0\n",
       "rougher.state.floatbank10_e_air               0\n",
       "rougher.state.floatbank10_e_level             0\n",
       "rougher.state.floatbank10_f_air               0\n",
       "rougher.state.floatbank10_f_level             0\n",
       "secondary_cleaner.state.floatbank2_a_air      0\n",
       "secondary_cleaner.state.floatbank2_a_level    0\n",
       "secondary_cleaner.state.floatbank2_b_air      0\n",
       "secondary_cleaner.state.floatbank2_b_level    0\n",
       "secondary_cleaner.state.floatbank3_a_air      0\n",
       "secondary_cleaner.state.floatbank3_a_level    0\n",
       "secondary_cleaner.state.floatbank3_b_air      0\n",
       "secondary_cleaner.state.floatbank3_b_level    0\n",
       "secondary_cleaner.state.floatbank4_a_air      0\n",
       "secondary_cleaner.state.floatbank4_a_level    0\n",
       "secondary_cleaner.state.floatbank4_b_air      0\n",
       "secondary_cleaner.state.floatbank4_b_level    0\n",
       "secondary_cleaner.state.floatbank5_a_air      0\n",
       "secondary_cleaner.state.floatbank5_a_level    0\n",
       "secondary_cleaner.state.floatbank5_b_air      0\n",
       "secondary_cleaner.state.floatbank5_b_level    0\n",
       "secondary_cleaner.state.floatbank6_a_air      0\n",
       "secondary_cleaner.state.floatbank6_a_level    0\n",
       "dtype: int64"
      ]
     },
     "execution_count": 5,
     "metadata": {},
     "output_type": "execute_result"
    }
   ],
   "source": [
    "data_test.isna().sum()"
   ]
  },
  {
   "cell_type": "markdown",
   "metadata": {},
   "source": [
    "<a id=\"1-bullet\"></a>\n",
    "**Removed nan in target features. In the remaining columns, I replaced the value with the average and deleted the column with dates. You won't be able to train the model with it.**"
   ]
  },
  {
   "cell_type": "code",
   "execution_count": 6,
   "metadata": {},
   "outputs": [],
   "source": [
    "F = data_train['rougher.input.feed_au']\n",
    "C = data_train['rougher.output.concentrate_au']\n",
    "T = data_train['rougher.output.tail_au']"
   ]
  },
  {
   "cell_type": "code",
   "execution_count": 7,
   "metadata": {},
   "outputs": [],
   "source": [
    "data_train['recovery'] = ((C * (F - T)) / (F * (C - T)))*100\n",
    "data_train = data_train.dropna().reset_index(drop=True)"
   ]
  },
  {
   "cell_type": "code",
   "execution_count": 8,
   "metadata": {},
   "outputs": [
    {
     "data": {
      "text/html": [
       "<div>\n",
       "<style scoped>\n",
       "    .dataframe tbody tr th:only-of-type {\n",
       "        vertical-align: middle;\n",
       "    }\n",
       "\n",
       "    .dataframe tbody tr th {\n",
       "        vertical-align: top;\n",
       "    }\n",
       "\n",
       "    .dataframe thead th {\n",
       "        text-align: right;\n",
       "    }\n",
       "</style>\n",
       "<table border=\"1\" class=\"dataframe\">\n",
       "  <thead>\n",
       "    <tr style=\"text-align: right;\">\n",
       "      <th></th>\n",
       "      <th>rougher.output.recovery</th>\n",
       "      <th>recovery</th>\n",
       "    </tr>\n",
       "  </thead>\n",
       "  <tbody>\n",
       "    <tr>\n",
       "      <th>0</th>\n",
       "      <td>87.107763</td>\n",
       "      <td>87.107763</td>\n",
       "    </tr>\n",
       "    <tr>\n",
       "      <th>1</th>\n",
       "      <td>86.843261</td>\n",
       "      <td>86.843261</td>\n",
       "    </tr>\n",
       "    <tr>\n",
       "      <th>2</th>\n",
       "      <td>86.842308</td>\n",
       "      <td>86.842308</td>\n",
       "    </tr>\n",
       "    <tr>\n",
       "      <th>3</th>\n",
       "      <td>87.226430</td>\n",
       "      <td>87.226430</td>\n",
       "    </tr>\n",
       "    <tr>\n",
       "      <th>4</th>\n",
       "      <td>86.688794</td>\n",
       "      <td>86.688794</td>\n",
       "    </tr>\n",
       "    <tr>\n",
       "      <th>5</th>\n",
       "      <td>88.156912</td>\n",
       "      <td>88.156912</td>\n",
       "    </tr>\n",
       "    <tr>\n",
       "      <th>6</th>\n",
       "      <td>88.168065</td>\n",
       "      <td>88.168065</td>\n",
       "    </tr>\n",
       "    <tr>\n",
       "      <th>7</th>\n",
       "      <td>87.668336</td>\n",
       "      <td>87.668336</td>\n",
       "    </tr>\n",
       "    <tr>\n",
       "      <th>8</th>\n",
       "      <td>87.035862</td>\n",
       "      <td>87.035862</td>\n",
       "    </tr>\n",
       "    <tr>\n",
       "      <th>9</th>\n",
       "      <td>87.650868</td>\n",
       "      <td>87.650868</td>\n",
       "    </tr>\n",
       "  </tbody>\n",
       "</table>\n",
       "</div>"
      ],
      "text/plain": [
       "   rougher.output.recovery   recovery\n",
       "0                87.107763  87.107763\n",
       "1                86.843261  86.843261\n",
       "2                86.842308  86.842308\n",
       "3                87.226430  87.226430\n",
       "4                86.688794  86.688794\n",
       "5                88.156912  88.156912\n",
       "6                88.168065  88.168065\n",
       "7                87.668336  87.668336\n",
       "8                87.035862  87.035862\n",
       "9                87.650868  87.650868"
      ]
     },
     "execution_count": 8,
     "metadata": {},
     "output_type": "execute_result"
    }
   ],
   "source": [
    "data_train[['rougher.output.recovery','recovery']].head(10)"
   ]
  },
  {
   "cell_type": "markdown",
   "metadata": {},
   "source": [
    "<a id=\"2-bullet\"></a>\n",
    "**values differ. Downward**"
   ]
  },
  {
   "cell_type": "code",
   "execution_count": 9,
   "metadata": {},
   "outputs": [
    {
     "data": {
      "text/plain": [
       "9.73512347450521e-15"
      ]
     },
     "execution_count": 9,
     "metadata": {},
     "output_type": "execute_result"
    }
   ],
   "source": [
    "mean_absolute_error(data_train['rougher.output.recovery'], data_train['recovery'])"
   ]
  },
  {
   "cell_type": "markdown",
   "metadata": {},
   "source": [
    "On average, we are off by 0.0000000000000095 when we find the enrichment efficiency. I think this is a very minor error."
   ]
  },
  {
   "cell_type": "markdown",
   "metadata": {},
   "source": [
    "**According to the results, our found variable is not very good. Somehow the model is very bad to learn from it**"
   ]
  },
  {
   "cell_type": "code",
   "execution_count": 10,
   "metadata": {},
   "outputs": [
    {
     "data": {
      "text/plain": [
       "{'final.output.concentrate_ag',\n",
       " 'final.output.concentrate_au',\n",
       " 'final.output.concentrate_pb',\n",
       " 'final.output.concentrate_sol',\n",
       " 'final.output.recovery',\n",
       " 'final.output.tail_ag',\n",
       " 'final.output.tail_au',\n",
       " 'final.output.tail_pb',\n",
       " 'final.output.tail_sol',\n",
       " 'primary_cleaner.output.concentrate_ag',\n",
       " 'primary_cleaner.output.concentrate_au',\n",
       " 'primary_cleaner.output.concentrate_pb',\n",
       " 'primary_cleaner.output.concentrate_sol',\n",
       " 'primary_cleaner.output.tail_ag',\n",
       " 'primary_cleaner.output.tail_au',\n",
       " 'primary_cleaner.output.tail_pb',\n",
       " 'primary_cleaner.output.tail_sol',\n",
       " 'recovery',\n",
       " 'rougher.calculation.au_pb_ratio',\n",
       " 'rougher.calculation.floatbank10_sulfate_to_au_feed',\n",
       " 'rougher.calculation.floatbank11_sulfate_to_au_feed',\n",
       " 'rougher.calculation.sulfate_to_au_concentrate',\n",
       " 'rougher.output.concentrate_ag',\n",
       " 'rougher.output.concentrate_au',\n",
       " 'rougher.output.concentrate_pb',\n",
       " 'rougher.output.concentrate_sol',\n",
       " 'rougher.output.recovery',\n",
       " 'rougher.output.tail_ag',\n",
       " 'rougher.output.tail_au',\n",
       " 'rougher.output.tail_pb',\n",
       " 'rougher.output.tail_sol',\n",
       " 'secondary_cleaner.output.tail_ag',\n",
       " 'secondary_cleaner.output.tail_au',\n",
       " 'secondary_cleaner.output.tail_pb',\n",
       " 'secondary_cleaner.output.tail_sol'}"
      ]
     },
     "execution_count": 10,
     "metadata": {},
     "output_type": "execute_result"
    }
   ],
   "source": [
    "set(list(data_train))\n",
    "set(list(data_test))\n",
    "set(list(data_train)) - set(list(data_test))\n"
   ]
  },
  {
   "cell_type": "code",
   "execution_count": 11,
   "metadata": {},
   "outputs": [],
   "source": [
    "features = data_train[data_test.columns]"
   ]
  },
  {
   "cell_type": "markdown",
   "metadata": {},
   "source": [
    "<a id=\"3-bullet\"></a>\n",
    "\n",
    "There are no final results in the test sample\n",
    "- output — product parameters\n",
    "- calculation - calculated characteristics\n",
    "- **As I understand it, these signs are not there because they are needed only for training**"
   ]
  },
  {
   "cell_type": "markdown",
   "metadata": {},
   "source": [
    "# 2. Data analysis"
   ]
  },
  {
   "cell_type": "code",
   "execution_count": 12,
   "metadata": {},
   "outputs": [],
   "source": [
    "data_full['input'] = 100 - (data_full['rougher.input.feed_au'] + data_full['rougher.input.feed_ag'] + data_full['rougher.input.feed_pb'] + data_full['rougher.input.feed_sol'])\n",
    "data_full['rougher_output'] = 100 - (data_full['rougher.output.concentrate_au'] + data_full['rougher.output.concentrate_ag']+ data_full['rougher.output.concentrate_pb']+ data_full['rougher.output.concentrate_sol'])\n",
    "data_full['final_output'] = 100 -(data_full['final.output.concentrate_au'] + data_full['final.output.concentrate_ag'] + data_full['final.output.concentrate_pb']+ data_full['final.output.concentrate_sol'])"
   ]
  },
  {
   "cell_type": "code",
   "execution_count": 13,
   "metadata": {},
   "outputs": [
    {
     "data": {
      "image/png": "[encoded data removed]",
      "text/plain": [
       "<Figure size 432x288 with 1 Axes>"
      ]
     },
     "metadata": {
      "needs_background": "light"
     },
     "output_type": "display_data"
    }
   ],
   "source": [
    "plt.xlabel('concentration of other metals in the mixture at different purification stages')\n",
    "plt.ylabel('number of values')\n",
    "plt.title('Proportion of other metals in the mixture')\n",
    "\n",
    "x = data_full['input']\n",
    "y = data_full['rougher_output']\n",
    "a = data_full['final_output']\n",
    "\n",
    "\n",
    "plt.hist(x, bins=50, alpha=0.5, label='flotation')\n",
    "plt.hist(y, bins=50, alpha=0.5, label='primary clear')\n",
    "plt.hist(a, bins=50, alpha=0.5, label='final stats')\n",
    "plt.legend(loc='upper right')\n",
    "plt.show()"
   ]
  },
  {
   "cell_type": "code",
   "execution_count": 14,
   "metadata": {},
   "outputs": [
    {
     "data": {
      "image/png": "[encoded data removed]",
      "text/plain": [
       "<Figure size 432x288 with 1 Axes>"
      ]
     },
     "metadata": {
      "needs_background": "light"
     },
     "output_type": "display_data"
    }
   ],
   "source": [
    "plt.xlabel('Percentage of gold in the mixture at different stages of purification')\n",
    "plt.ylabel('number of values')\n",
    "plt.title('Proportion of gold in the mix')\n",
    "\n",
    "x = data_full['rougher.output.concentrate_au']\n",
    "y = data_full['primary_cleaner.output.concentrate_au']\n",
    "a = data_full['final.output.concentrate_au']\n",
    "b = data_full['rougher.input.feed_au']\n",
    "\n",
    "plt.hist(b, bins=50, alpha=0.5, label='gold before refinement')\n",
    "plt.hist(x, bins=50, alpha=0.5, label='flotation')\n",
    "plt.hist(y, bins=50, alpha=0.5, label='primary clear')\n",
    "plt.hist(a, bins=50, alpha=0.5, label='final stats')\n",
    "plt.legend(loc='upper right')\n",
    "plt.show()\n"
   ]
  },
  {
   "cell_type": "code",
   "execution_count": 15,
   "metadata": {},
   "outputs": [
    {
     "data": {
      "image/png": "[encoded data removed]",
      "text/plain": [
       "<Figure size 432x288 with 1 Axes>"
      ]
     },
     "metadata": {
      "needs_background": "light"
     },
     "output_type": "display_data"
    }
   ],
   "source": [
    "plt.xlabel('Percentage of silver in the mixture at different stages of purification')\n",
    "plt.ylabel('number of values')\n",
    "plt.title('Proportion of silver in mixture')\n",
    "x = data_full['rougher.output.concentrate_ag']\n",
    "y = data_full['primary_cleaner.output.concentrate_ag']\n",
    "a = data_full['final.output.concentrate_ag']\n",
    "b = data_full['rougher.input.feed_ag']\n",
    "\n",
    "plt.hist(b, bins=50, alpha=0.5, label='fraction of silver before cleaning')\n",
    "plt.hist(x, bins=50, alpha=0.5, label='flotation')\n",
    "plt.hist(y, bins=50, alpha=0.5, label='primary clear')\n",
    "plt.hist(a, bins=50, alpha=0.5, label='final stats')\n",
    "plt.legend(loc='upper right')\n",
    "plt.show()"
   ]
  },
  {
   "cell_type": "code",
   "execution_count": 16,
   "metadata": {},
   "outputs": [
    {
     "data": {
      "image/png": "[encoded data removed]",
      "text/plain": [
       "<Figure size 432x288 with 1 Axes>"
      ]
     },
     "metadata": {
      "needs_background": "light"
     },
     "output_type": "display_data"
    }
   ],
   "source": [
    "plt.xlabel('Percentage of lead in mixture at different stages of purification')\n",
    "plt.ylabel('number of values')\n",
    "plt.title('Proportion of lead in mixture')\n",
    "x = data_full['rougher.output.concentrate_pb']\n",
    "y = data_full['primary_cleaner.output.concentrate_pb']\n",
    "a = data_full['final.output.concentrate_pb']\n",
    "b = data_full['rougher.input.feed_pb']\n",
    "\n",
    "plt.hist(b, bins=50, alpha=0.5, label='percentage of lead before cleaning')\n",
    "plt.hist(x, bins=50, alpha=0.5, label='flotation')\n",
    "plt.hist(y, bins=50, alpha=0.5, label='primary clear')\n",
    "plt.hist(a, bins=50, alpha=0.5, label='final stats')\n",
    "plt.legend(loc='upper right')\n",
    "plt.show()"
   ]
  },
  {
   "cell_type": "code",
   "execution_count": 17,
   "metadata": {},
   "outputs": [
    {
     "data": {
      "image/png": "[encoded data removed]",
      "text/plain": [
       "<Figure size 432x288 with 1 Axes>"
      ]
     },
     "metadata": {
      "needs_background": "light"
     },
     "output_type": "display_data"
    }
   ],
   "source": [
    "plt.xlabel('Proportion of metal gone to tails')\n",
    "plt.ylabel('number of values')\n",
    "plt.title('Proportion of element in mixture')\n",
    "x = data_full['secondary_cleaner.output.tail_au']\n",
    "y = data_full['secondary_cleaner.output.tail_ag']\n",
    "a = data_full['secondary_cleaner.output.tail_pb']\n",
    "\n",
    "\n",
    "plt.hist(x, bins=50, alpha=0.5, label='Gold')\n",
    "plt.hist(y, bins=50, alpha=0.5, label='Silver')\n",
    "plt.hist(a, bins=50, alpha=0.5, label='Lead')\n",
    "plt.legend(loc='upper right')\n",
    "plt.show()"
   ]
  },
  {
   "cell_type": "markdown",
   "metadata": {},
   "source": [
    "<a id=\"4-bullet\"></a>\n",
    "\n",
    "**On each of the graphs, you can see that the cleaning works. And there is quite a bit of gold in the tails. Although the concentration of lead does not change much. It seems to me that there are definitely problems with its filtering. Though it may be done to weigh down the gold**"
   ]
  },
  {
   "cell_type": "code",
   "execution_count": 18,
   "metadata": {},
   "outputs": [
    {
     "data": {
      "image/png": "[encoded data removed]",
      "text/plain": [
       "<Figure size 432x288 with 1 Axes>"
      ]
     },
     "metadata": {
      "needs_background": "light"
     },
     "output_type": "display_data"
    }
   ],
   "source": [
    "plt.xlabel('values')\n",
    "plt.ylabel('number of values')\n",
    "plt.title('Raw material granule size distributions on training and test sets')\n",
    "x = data_test['rougher.input.feed_size']\n",
    "y = data_train['rougher.input.feed_size']\n",
    "\n",
    "\n",
    "plt.hist(x, bins=500, alpha=0.5, label='test')\n",
    "plt.hist(y, bins=500, alpha=0.5, label='train')\n",
    "plt.legend(loc='upper right')\n",
    "plt.xlim(20, 120)\n",
    "plt.show()"
   ]
  },
  {
   "cell_type": "code",
   "execution_count": 19,
   "metadata": {},
   "outputs": [
    {
     "data": {
      "text/plain": [
       "(20.0, 120.0)"
      ]
     },
     "execution_count": 19,
     "metadata": {},
     "output_type": "execute_result"
    },
    {
     "data": {
      "image/png": "[encoded data removed]",
      "text/plain": [
       "<Figure size 432x288 with 1 Axes>"
      ]
     },
     "metadata": {
      "needs_background": "light"
     },
     "output_type": "display_data"
    }
   ],
   "source": [
    "#matplotlib.style.use('ggplot')\n",
    "\n",
    "plt.xlabel('values')\n",
    "plt.ylabel('number of values')\n",
    "plt.title('Raw material granule size distributions on training and test sets')\n",
    "\n",
    "x = data_test['rougher.input.feed_size']\n",
    "y = data_train['rougher.input.feed_size']\n",
    "\n",
    "x.plot.kde(alpha=0.5, label='test')\n",
    "y.plot.kde(alpha=0.5, label='test')\n",
    "plt.legend(loc='upper right')\n",
    "plt.xlim(20, 120)"
   ]
  },
  {
   "cell_type": "markdown",
   "metadata": {},
   "source": [
    "<a id=\"5-bullet\"></a>\n",
    "**The distributions differ from each other, but not much. Model score will be correct**"
   ]
  },
  {
   "cell_type": "code",
   "execution_count": 20,
   "metadata": {},
   "outputs": [
    {
     "data": {
      "image/png": "[encoded data removed]",
      "text/plain": [
       "<Figure size 432x288 with 1 Axes>"
      ]
     },
     "metadata": {
      "needs_background": "light"
     },
     "output_type": "display_data"
    }
   ],
   "source": [
    "data_full['input_feed'] = data_full['rougher.input.feed_au'] + data_full['rougher.input.feed_ag']\n",
    "+ data_full['rougher.input.feed_pb'] + data_full['rougher.input.feed_sol']\n",
    "data_full = data_full.query('input_feed >= 0.1')\n",
    "data_full['input_feed'].hist(bins=50) # Full table histogram\n",
    "plt.show()"
   ]
  },
  {
   "cell_type": "code",
   "execution_count": 21,
   "metadata": {},
   "outputs": [
    {
     "data": {
      "image/png": "[encoded data removed]",
      "text/plain": [
       "<Figure size 432x288 with 1 Axes>"
      ]
     },
     "metadata": {
      "needs_background": "light"
     },
     "output_type": "display_data"
    }
   ],
   "source": [
    "data_full['all_rougher'] = data_full['rougher.output.concentrate_au'] + data_full['rougher.output.concentrate_ag']\n",
    "+ data_full['rougher.output.concentrate_pb'] + data_full['rougher.output.concentrate_sol']\n",
    "data_full = data_full.query('all_rougher >= 0.1')\n",
    "data_full['all_rougher'].hist(bins=50) # Histogram of the entire table\n",
    "plt.show()"
   ]
  },
  {
   "cell_type": "code",
   "execution_count": 22,
   "metadata": {},
   "outputs": [
    {
     "data": {
      "image/png": "[encoded data removed]",
      "text/plain": [
       "<Figure size 432x288 with 1 Axes>"
      ]
     },
     "metadata": {
      "needs_background": "light"
     },
     "output_type": "display_data"
    }
   ],
   "source": [
    "data_full['all_primary_cleaner'] = data_full['primary_cleaner.output.concentrate_au'] + data_full['primary_cleaner.output.concentrate_ag']\n",
    "+ data_full['primary_cleaner.output.concentrate_pb'] + data_full['primary_cleaner.output.concentrate_sol']\n",
    "data_full = data_full.query('all_primary_cleaner >= 0.1')\n",
    "data_full['all_primary_cleaner'].hist(bins=30) # Histogram of the entire table\n",
    "plt.show()"
   ]
  },
  {
   "cell_type": "code",
   "execution_count": 23,
   "metadata": {},
   "outputs": [
    {
     "data": {
      "image/png": "[encoded data removed]",
      "text/plain": [
       "<Figure size 432x288 with 1 Axes>"
      ]
     },
     "metadata": {
      "needs_background": "light"
     },
     "output_type": "display_data"
    }
   ],
   "source": [
    "data_full['all_final_cleaner'] = data_full['final.output.concentrate_au'] + data_full['final.output.concentrate_ag']\n",
    "+ data_full['final.output.concentrate_pb'] + data_full['final.output.concentrate_sol']\n",
    "data_full = data_full.query('all_final_cleaner >= 0.1')\n",
    "data_full['all_final_cleaner'].hist(bins=50) # Histogram of the entire table\n",
    "plt.show()"
   ]
  },
  {
   "cell_type": "code",
   "execution_count": 24,
   "metadata": {},
   "outputs": [],
   "source": [
    "def dov_int(sample):\n",
    "\n",
    "    print(\"Mean:\", sample.mean())\n",
    "\n",
    "     # 95% confidence interval for average marmalade bill\n",
    "     # Student's distribution scipy.stats.t\n",
    "     # function for confidence interval interval()\n",
    "    confidence_interval = st.t.interval(\n",
    "         0.95, len(sample)-1,sample.mean(), sample.sem())\n",
    "\n",
    "    print(\"95% confidence interval:\", confidence_interval)"
   ]
  },
  {
   "cell_type": "code",
   "execution_count": 25,
   "metadata": {},
   "outputs": [
    {
     "name": "stdout",
     "output_type": "stream",
     "text": [
      "Mean: 32.444250508311974\n",
      "95% confidence interval: (32.392276951926654, 32.496224064697294)\n",
      "flotation None\n",
      "Mean: 41.03491695527976\n",
      "95% confidence interval: (40.972395762086485, 41.09743814847304)\n",
      "primary cleaner None\n",
      "Mean: 49.49710747369507\n",
      "95% confidence interval: (49.44267985370852, 49.551535093681615)\n",
      "final specs None\n"
     ]
    }
   ],
   "source": [
    "print('flotation', dov_int(data_full['all_rougher']))\n",
    "print('primary cleaner', dov_int(data_full['all_primary_cleaner']))\n",
    "print('final specs', dov_int(data_full['all_final_cleaner']))\n"
   ]
  },
  {
   "cell_type": "markdown",
   "metadata": {},
   "source": [
    "<a id=\"6-bullet\"></a>\n",
    "\n",
    "**There are quite a few near zero emissions, but it seems to me that it would be correct to remove them. They are quite common, maybe there was just a small concentration of substances. Here null values can be removed. Since the elements we need are not there anyway.**"
   ]
  },
  {
   "cell_type": "code",
   "execution_count": 26,
   "metadata": {},
   "outputs": [],
   "source": [
    "data_train = data_train[data_train['rougher.output.concentrate_au'] + data_train['rougher.output.concentrate_ag'] \n",
    "+ data_train['rougher.output.concentrate_pb'] + data_train['rougher.output.concentrate_sol'] >= 0.1]\n",
    "\n",
    "data_train = data_train[data_train['rougher.input.feed_au'] + data_train['rougher.input.feed_ag'] \n",
    "+ data_train['rougher.input.feed_pb'] + data_train['rougher.input.feed_sol'] >= 0.1]\n",
    "\n",
    "data_train = data_train[data_train['primary_cleaner.output.concentrate_au'] + data_train['primary_cleaner.output.concentrate_ag'] \n",
    "+ data_train['primary_cleaner.output.concentrate_pb'] + data_train['primary_cleaner.output.concentrate_sol'] >= 0.1]\n",
    "\n",
    "data_train = data_train[data_train['final.output.concentrate_au'] + data_train['final.output.concentrate_ag'] \n",
    "+ data_train['final.output.concentrate_pb'] + data_train['final.output.concentrate_sol'] >= 0.1]\n",
    "features = data_train[data_test.columns]"
   ]
  },
  {
   "cell_type": "markdown",
   "metadata": {},
   "source": [
    "# 3 Model"
   ]
  },
  {
   "cell_type": "code",
   "execution_count": 27,
   "metadata": {},
   "outputs": [],
   "source": [
    "def smape(a, f):\n",
    "    return 1/len(a) * np.sum(2 * np.abs(f-a) / (np.abs(a) + np.abs(f))*100)"
   ]
  },
  {
   "cell_type": "markdown",
   "metadata": {},
   "source": [
    "<a id=\"7-bullet\"></a>\n",
    "**sMAPE**"
   ]
  },
  {
   "cell_type": "code",
   "execution_count": 28,
   "metadata": {},
   "outputs": [
    {
     "name": "stdout",
     "output_type": "stream",
     "text": [
      "7.252333136885026\n",
      "[8.79375445 7.13717429 6.07493525 5.0979531  9.1578486 ]\n",
      "11.281566252428957\n",
      "[13.32817869 10.24645028 10.23685971  9.29803358 13.29830901]\n",
      "\n",
      "final sMAPE on LinearRegression = 10.274257973542975\n"
     ]
    }
   ],
   "source": [
    "target_rougher = data_train['rougher.output.recovery']\n",
    "target_final = data_train['final.output.recovery']\n",
    "features = data_train[data_test.columns]\n",
    " \n",
    "def smape_final(smape_1, smape_2):\n",
    "    return smape_1 * 0.25 + smape_2 * 0.75\n",
    " \n",
    "model_rougher = LinearRegression()\n",
    "score_rougher = (cross_val_score(model_rougher, features, target_rougher, cv = 5, scoring = make_scorer(smape, greater_is_better=False)) * -1)\n",
    "final_score_rougher = score_rougher.mean()\n",
    "print(final_score_rougher)\n",
    "print(score_rougher)\n",
    " \n",
    "model_final = LinearRegression()\n",
    "score_final = (cross_val_score(model_final, features, target_final, cv = 5, scoring = make_scorer(smape, greater_is_better=False)) * -1)\n",
    "final_score_final = score_final.mean()\n",
    "print(final_score_final)\n",
    "print(score_final)\n",
    " \n",
    "print('\\nfinal sMAPE on LinearRegression =', smape_final(final_score_rougher, final_score_final))"
   ]
  },
  {
   "cell_type": "code",
   "execution_count": 29,
   "metadata": {},
   "outputs": [
    {
     "name": "stdout",
     "output_type": "stream",
     "text": [
      "11.281566252428957\n",
      "[13.32817869 10.24645028 10.23685971  9.29803358 13.29830901]\n",
      "9.43499166775627\n",
      "[ 9.59172037  8.07868754  8.93803451  9.58113505 10.98538087]\n",
      "MAE 9.041244079435483\n",
      "9.721930736258358\n",
      "[ 9.6226955   7.8235356  11.28817066  9.19319407 10.68205785]\n",
      "MAE 9.25644838081205\n",
      "9.627664676132692\n",
      "[ 9.7352279   8.12975813 11.26538759  8.67242411 10.33552566]\n",
      "MAE 9.1857488357178\n",
      "10.387215991341767\n",
      "[10.91803713  9.66609934 11.51819172  8.34143154 11.49232022]\n",
      "MAE 9.755412322124606\n",
      "11.328018934585083\n",
      "[11.22687773 14.21279644 10.16243127  9.14164699 11.89634224]\n",
      "MAE 10.461014529557094\n",
      "11.328018934585083\n",
      "[11.22687773 14.21279644 10.16243127  9.14164699 11.89634224]\n",
      "9.43499166775627\n",
      "[ 9.59172037  8.07868754  8.93803451  9.58113505 10.98538087]\n",
      "MAE 9.005423233265788\n",
      "9.721930736258358\n",
      "[ 9.6226955   7.8235356  11.28817066  9.19319407 10.68205785]\n",
      "MAE 9.220627534642354\n",
      "9.627664676132692\n",
      "[ 9.7352279   8.12975813 11.26538759  8.67242411 10.33552566]\n",
      "MAE 9.149927989548106\n",
      "10.387215991341767\n",
      "[10.91803713  9.66609934 11.51819172  8.34143154 11.49232022]\n",
      "MAE 9.71959147595491\n",
      "11.328018934585083\n",
      "[11.22687773 14.21279644 10.16243127  9.14164699 11.89634224]\n",
      "MAE 10.425193683387398\n",
      "11.328018934585083\n",
      "[11.22687773 14.21279644 10.16243127  9.14164699 11.89634224]\n",
      "9.43499166775627\n",
      "[ 9.59172037  8.07868754  8.93803451  9.58113505 10.98538087]\n",
      "MAE 8.930007865615474\n",
      "9.721930736258358\n",
      "[ 9.6226955   7.8235356  11.28817066  9.19319407 10.68205785]\n",
      "MAE 9.14521216699204\n",
      "9.627664676132692\n",
      "[ 9.7352279   8.12975813 11.26538759  8.67242411 10.33552566]\n",
      "MAE 9.074512621897792\n",
      "10.387215991341767\n",
      "[10.91803713  9.66609934 11.51819172  8.34143154 11.49232022]\n",
      "MAE 9.644176108304597\n",
      "11.328018934585083\n",
      "[11.22687773 14.21279644 10.16243127  9.14164699 11.89634224]\n",
      "MAE 10.349778315737085\n",
      "11.328018934585083\n",
      "[11.22687773 14.21279644 10.16243127  9.14164699 11.89634224]\n",
      "9.43499166775627\n",
      "[ 9.59172037  8.07868754  8.93803451  9.58113505 10.98538087]\n",
      "MAE 8.933421965997061\n",
      "9.721930736258358\n",
      "[ 9.6226955   7.8235356  11.28817066  9.19319407 10.68205785]\n",
      "MAE 9.148626267373627\n",
      "9.627664676132692\n",
      "[ 9.7352279   8.12975813 11.26538759  8.67242411 10.33552566]\n",
      "MAE 9.07792672227938\n",
      "10.387215991341767\n",
      "[10.91803713  9.66609934 11.51819172  8.34143154 11.49232022]\n",
      "MAE 9.647590208686184\n",
      "11.328018934585083\n",
      "[11.22687773 14.21279644 10.16243127  9.14164699 11.89634224]\n",
      "MAE 10.353192416118672\n",
      "11.328018934585083\n",
      "[11.22687773 14.21279644 10.16243127  9.14164699 11.89634224]\n",
      "9.43499166775627\n",
      "[ 9.59172037  8.07868754  8.93803451  9.58113505 10.98538087]\n",
      "MAE 9.088712094537172\n",
      "9.721930736258358\n",
      "[ 9.6226955   7.8235356  11.28817066  9.19319407 10.68205785]\n",
      "MAE 9.303916395913738\n",
      "9.627664676132692\n",
      "[ 9.7352279   8.12975813 11.26538759  8.67242411 10.33552566]\n",
      "MAE 9.233216850819488\n",
      "10.387215991341767\n",
      "[10.91803713  9.66609934 11.51819172  8.34143154 11.49232022]\n",
      "MAE 9.802880337226295\n",
      "11.328018934585083\n",
      "[11.22687773 14.21279644 10.16243127  9.14164699 11.89634224]\n",
      "MAE 10.508482544658783\n",
      "8.930007865615474 \n",
      " RandomForestRegressor(max_depth=3, n_estimators=1, random_state=12345) \n",
      " RandomForestRegressor(max_depth=1, n_estimators=1, random_state=12345)\n"
     ]
    }
   ],
   "source": [
    "target_rougher = data_train['rougher.output.recovery']\n",
    "target_final = data_train['final.output.recovery']\n",
    "\n",
    "\n",
    " \n",
    "best_mae = 100\n",
    "for depth in range(1, 6, 1): \n",
    "    model_rougher = RandomForestRegressor(n_estimators=1, max_depth=depth, random_state=12345)\n",
    "    score_rougher = (cross_val_score(model_rougher, features, target_rougher, cv = 5, scoring = make_scorer(smape, greater_is_better=False)) * -1)\n",
    "    final_score_rougher = score_rougher.mean()\n",
    "    print(final_score_final)\n",
    "    print(score_final)\n",
    "    for dep in range(1, 6, 1):\n",
    "        model_final = RandomForestRegressor(n_estimators=1, max_depth=dep, random_state=12345)\n",
    "        score_final = (cross_val_score(model_final, features, target_final, cv = 5, scoring = make_scorer(smape, greater_is_better=False)) * -1)\n",
    "        final_score_final = score_final.mean()\n",
    "        print(final_score_final)\n",
    "        print(score_final)\n",
    "\n",
    "        mae = smape_final(final_score_rougher, final_score_final)\n",
    "        print('MAE', mae)\n",
    "        if mae < best_mae:\n",
    "            best_mae = mae\n",
    "            best_model_1 = model_rougher\n",
    "            best_model_2 = model_final\n",
    "print(best_mae, '\\n', best_model_1,'\\n',  best_model_2)"
   ]
  },
  {
   "cell_type": "code",
   "execution_count": 30,
   "metadata": {},
   "outputs": [
    {
     "name": "stdout",
     "output_type": "stream",
     "text": [
      "6.6315638410446995\n",
      "[8.19323503 6.77401814 4.72524789 5.51454502 7.95077313]\n",
      "9.499072940596584\n",
      "[ 9.571602    8.06427217  8.8543359  10.02977844 10.97537619]\n",
      "\n",
      "final sMAPE on RandomForestRegressor = 8.782195665708613\n"
     ]
    }
   ],
   "source": [
    "target_rougher = data_train['rougher.output.recovery']\n",
    "target_final = data_train['final.output.recovery']\n",
    "\n",
    " \n",
    "model_rougher = RandomForestRegressor(n_estimators=100, max_depth=3 , random_state=12345)\n",
    "score_rougher = (cross_val_score(model_rougher, features, target_rougher, cv = 5, scoring = make_scorer(smape, greater_is_better=False)) * -1)\n",
    "final_score_rougher = score_rougher.mean()\n",
    "print(final_score_rougher)\n",
    "print(score_rougher)\n",
    " \n",
    "model_final = RandomForestRegressor(n_estimators=100, max_depth=1 , random_state=12345)\n",
    "score_final = (cross_val_score(model_final, features, target_final, cv = 5, scoring = make_scorer(smape, greater_is_better=False)) * -1)\n",
    "final_score_final = score_final.mean()\n",
    "print(final_score_final)\n",
    "print(score_final)\n",
    " \n",
    "print('\\nfinal sMAPE on RandomForestRegressor =', smape_final(final_score_rougher, final_score_final))"
   ]
  },
  {
   "cell_type": "markdown",
   "metadata": {},
   "source": [
    "- final sMAPE on LinearRegression = 10.274257973543078\n",
    "- final sMAPE on Tree = 8.930007865615474\n",
    "- final sMAPE on RandomForestRegressor = 8.782195665708613\n",
    "- **Best Model is Random Forest \"RandomForestRegressor\"**"
   ]
  },
  {
   "cell_type": "code",
   "execution_count": 31,
   "metadata": {},
   "outputs": [
    {
     "name": "stdout",
     "output_type": "stream",
     "text": [
      "\n",
      "final sMAPE on RandomForestRegressor on Test_data = 9.27014830718999\n"
     ]
    }
   ],
   "source": [
    "target_rougher = data_train['rougher.output.recovery']\n",
    "target_final = data_train['final.output.recovery']\n",
    "features = data_train[data_test.columns]\n",
    "\n",
    "features_valid = data_test_new[data_test.columns]\n",
    "target_valid_rougher = data_test_new['rougher.output.recovery']\n",
    "target_valid_final = data_test_new['final.output.recovery']\n",
    "\n",
    "model_rougher = RandomForestRegressor(n_estimators=100, max_depth=3 , random_state=12345)\n",
    "model_rougher.fit(features, target_rougher)\n",
    "predicted_rougher = model_rougher.predict(features_valid)\n",
    "\n",
    "model_final = RandomForestRegressor(n_estimators=100, max_depth=1 , random_state=12345)\n",
    "model_final.fit(features, target_final)\n",
    "predicted_final = model_final.predict(features_valid)\n",
    "\n",
    "mae = smape_final(smape(target_valid_rougher, predicted_rougher), smape(target_valid_final, predicted_final))\n",
    "\n",
    "print('\\nfinal sMAPE on RandomForestRegressor on Test_data =', mae)"
   ]
  },
  {
   "cell_type": "markdown",
   "metadata": {},
   "source": [
    "**final sMAPE on RandomForestRegressor on Test_data = 8.996984836760245**"
   ]
  },
  {
   "cell_type": "code",
   "execution_count": 32,
   "metadata": {},
   "outputs": [
    {
     "name": "stdout",
     "output_type": "stream",
     "text": [
      "final sMAPE on Median = 9.450339967140751\n"
     ]
    }
   ],
   "source": [
    "# target column of the training sample\n",
    "target_rougher = data_train['rougher.output.recovery']\n",
    "target_final = data_train['final.output.recovery']\n",
    "\n",
    "# vector of constant model predictions for test sample objects\n",
    "predicted_rougher = pd.Series(target_rougher.median(), index=target_valid_rougher.index)\n",
    "predicted_final = pd.Series(target_final.median(), index=target_valid_final.index)\n",
    "\n",
    "# sMAPE constant model\n",
    "smape_1 = smape(target_valid_rougher, predicted_rougher)\n",
    "smape_2 = smape(target_valid_final, predicted_final)\n",
    "print('final sMAPE on Median =', smape_final(smape_1, smape_2))"
   ]
  },
  {
   "cell_type": "markdown",
   "metadata": {},
   "source": [
    "***The model predicts a similar result. The difference is very small. The model is adequate, but the result is slightly better than with the median.***"
   ]
  },
  {
   "cell_type": "markdown",
   "metadata": {},
   "source": [
    "<a id=\"8-bullet\"></a>\n",
    "\n",
    "# 4 Conclusion\n",
    "**What to do with lead is not clear, its concentration almost does not drop after cleaning. It doesn't seem normal to me. There is a small error between the calculations and the value of the rougher.output.recovery feature. The distributions on the training and test samples do not differ much. There are very small values in the samples. This is due to the low concentration of substances. I removed these values. The best model is RandomForestRegressor. The model is adequate. But it seems to me that our model will not help much. Because we get a better result than when we take the median.**"
   ]
  },
  {
   "cell_type": "code",
   "execution_count": null,
   "metadata": {},
   "outputs": [],
   "source": []
  }
 ],
 "metadata": {
  "ExecuteTimeLog": [
   {
    "duration": 1683,
    "start_time": "2022-10-06T02:36:03.884Z"
   },
   {
    "duration": 1902,
    "start_time": "2022-10-06T02:36:05.570Z"
   },
   {
    "duration": 0,
    "start_time": "2022-10-06T02:36:07.474Z"
   },
   {
    "duration": 555,
    "start_time": "2022-10-06T02:36:16.117Z"
   },
   {
    "duration": 2340,
    "start_time": "2022-10-06T02:37:48.129Z"
   },
   {
    "duration": 481,
    "start_time": "2022-10-06T02:38:26.913Z"
   },
   {
    "duration": 3040,
    "start_time": "2022-10-06T02:40:30.387Z"
   },
   {
    "duration": 10,
    "start_time": "2022-10-06T02:40:35.382Z"
   },
   {
    "duration": 218,
    "start_time": "2022-10-06T02:41:02.583Z"
   },
   {
    "duration": 6,
    "start_time": "2022-10-06T02:41:04.296Z"
   },
   {
    "duration": 4,
    "start_time": "2022-10-06T02:41:25.868Z"
   },
   {
    "duration": 27,
    "start_time": "2022-10-06T02:41:28.178Z"
   },
   {
    "duration": 12,
    "start_time": "2022-10-06T02:41:29.194Z"
   },
   {
    "duration": 5,
    "start_time": "2022-10-06T02:41:43.757Z"
   },
   {
    "duration": 6,
    "start_time": "2022-10-06T02:42:34.215Z"
   },
   {
    "duration": 5,
    "start_time": "2022-10-06T02:42:37.313Z"
   },
   {
    "duration": 13,
    "start_time": "2022-10-06T02:43:24.256Z"
   },
   {
    "duration": 356,
    "start_time": "2022-10-06T02:43:33.708Z"
   },
   {
    "duration": 518,
    "start_time": "2022-10-06T02:43:47.940Z"
   },
   {
    "duration": 442,
    "start_time": "2022-10-06T02:44:14.777Z"
   },
   {
    "duration": 447,
    "start_time": "2022-10-06T02:44:29.193Z"
   },
   {
    "duration": 353,
    "start_time": "2022-10-06T02:44:40.085Z"
   },
   {
    "duration": 1739,
    "start_time": "2022-10-06T02:45:10.401Z"
   },
   {
    "duration": 730,
    "start_time": "2022-10-06T02:45:20.984Z"
   },
   {
    "duration": 211,
    "start_time": "2022-10-06T02:45:46.995Z"
   },
   {
    "duration": 212,
    "start_time": "2022-10-06T02:45:56.820Z"
   },
   {
    "duration": 187,
    "start_time": "2022-10-06T02:46:10.717Z"
   },
   {
    "duration": 201,
    "start_time": "2022-10-06T02:46:20.653Z"
   },
   {
    "duration": 56,
    "start_time": "2022-10-06T02:47:21.747Z"
   },
   {
    "duration": 4,
    "start_time": "2022-10-06T02:47:29.034Z"
   },
   {
    "duration": 12,
    "start_time": "2022-10-06T02:47:43.441Z"
   },
   {
    "duration": 4,
    "start_time": "2022-10-06T02:48:30.192Z"
   },
   {
    "duration": 22,
    "start_time": "2022-10-06T02:48:46.511Z"
   },
   {
    "duration": 4,
    "start_time": "2022-10-06T02:48:58.286Z"
   },
   {
    "duration": 2921,
    "start_time": "2022-10-06T02:49:05.534Z"
   },
   {
    "duration": 17319,
    "start_time": "2022-10-06T02:49:08.457Z"
   },
   {
    "duration": 69963,
    "start_time": "2022-10-06T02:49:25.778Z"
   },
   {
    "duration": 18,
    "start_time": "2022-10-06T02:50:35.744Z"
   },
   {
    "duration": 1518,
    "start_time": "2022-10-06T02:51:04.914Z"
   },
   {
    "duration": 725,
    "start_time": "2022-10-06T02:51:06.434Z"
   },
   {
    "duration": 9,
    "start_time": "2022-10-06T02:51:07.161Z"
   },
   {
    "duration": 261,
    "start_time": "2022-10-06T02:51:07.172Z"
   },
   {
    "duration": 6,
    "start_time": "2022-10-06T02:51:07.435Z"
   },
   {
    "duration": 13,
    "start_time": "2022-10-06T02:51:07.443Z"
   },
   {
    "duration": 31,
    "start_time": "2022-10-06T02:51:07.458Z"
   },
   {
    "duration": 12,
    "start_time": "2022-10-06T02:51:07.491Z"
   },
   {
    "duration": 10,
    "start_time": "2022-10-06T02:51:07.504Z"
   },
   {
    "duration": 5,
    "start_time": "2022-10-06T02:51:07.517Z"
   },
   {
    "duration": 34,
    "start_time": "2022-10-06T02:51:07.524Z"
   },
   {
    "duration": 27,
    "start_time": "2022-10-06T02:51:07.560Z"
   },
   {
    "duration": 356,
    "start_time": "2022-10-06T02:51:07.589Z"
   },
   {
    "duration": 667,
    "start_time": "2022-10-06T02:51:07.953Z"
   },
   {
    "duration": 459,
    "start_time": "2022-10-06T02:51:08.623Z"
   },
   {
    "duration": 517,
    "start_time": "2022-10-06T02:51:09.084Z"
   },
   {
    "duration": 397,
    "start_time": "2022-10-06T02:51:09.604Z"
   },
   {
    "duration": 1805,
    "start_time": "2022-10-06T02:51:10.004Z"
   },
   {
    "duration": 663,
    "start_time": "2022-10-06T02:51:11.812Z"
   },
   {
    "duration": 216,
    "start_time": "2022-10-06T02:51:12.478Z"
   },
   {
    "duration": 223,
    "start_time": "2022-10-06T02:51:12.696Z"
   },
   {
    "duration": 186,
    "start_time": "2022-10-06T02:51:12.920Z"
   },
   {
    "duration": 211,
    "start_time": "2022-10-06T02:51:13.108Z"
   },
   {
    "duration": 3,
    "start_time": "2022-10-06T02:51:13.321Z"
   },
   {
    "duration": 28,
    "start_time": "2022-10-06T02:51:13.326Z"
   },
   {
    "duration": 25,
    "start_time": "2022-10-06T02:51:13.356Z"
   },
   {
    "duration": 3,
    "start_time": "2022-10-06T02:51:13.383Z"
   },
   {
    "duration": 2771,
    "start_time": "2022-10-06T02:51:13.389Z"
   },
   {
    "duration": 17299,
    "start_time": "2022-10-06T02:51:16.162Z"
   },
   {
    "duration": 70006,
    "start_time": "2022-10-06T02:51:33.463Z"
   },
   {
    "duration": 17556,
    "start_time": "2022-10-06T02:52:43.471Z"
   },
   {
    "duration": 12,
    "start_time": "2022-10-06T02:53:01.029Z"
   }
  ],
  "kernelspec": {
   "display_name": "Python 3 (ipykernel)",
   "language": "python",
   "name": "python3"
  },
  "language_info": {
   "codemirror_mode": {
    "name": "ipython",
    "version": 3
   },
   "file_extension": ".py",
   "mimetype": "text/x-python",
   "name": "python",
   "nbconvert_exporter": "python",
   "pygments_lexer": "ipython3",
   "version": "3.9.5"
  },
  "toc": {
   "base_numbering": 1,
   "nav_menu": {},
   "number_sections": true,
   "sideBar": true,
   "skip_h1_title": false,
   "title_cell": "Table of Contents",
   "title_sidebar": "Contents",
   "toc_cell": false,
   "toc_position": {},
   "toc_section_display": true,
   "toc_window_display": false
  }
 },
 "nbformat": 4,
 "nbformat_minor": 2
}
