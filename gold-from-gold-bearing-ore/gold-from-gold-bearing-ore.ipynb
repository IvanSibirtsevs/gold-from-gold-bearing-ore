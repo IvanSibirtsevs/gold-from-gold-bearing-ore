{
 "cells": [
  {
   "cell_type": "markdown",
   "metadata": {},
   "source": [
    "# Описание проекта\n",
    "\n",
    "Подготовьте прототип модели машинного обучения для «Цифры». Компания разрабатывает решения для эффективной работы промышленных предприятий.\n",
    "\n",
    "Модель должна предсказать коэффициент восстановления золота из золотосодержащей руды. В вашем распоряжении данные с параметрами добычи и очистки. \n",
    "\n",
    "Модель поможет оптимизировать производство, чтобы не запускать предприятие с убыточными характеристиками.\n",
    "\n",
    "Мне нужно:\n",
    "\n",
    "1. Подготовить данные;\n",
    "2. Провести исследовательский анализ данных;\n",
    "3. Построить и обучить модель.\n",
    "\n",
    "Чтобы выполнить проект, обращайтесь к библиотекам *pandas*, *matplotlib* и *sklearn.* Вам поможет их документация."
   ]
  },
  {
   "cell_type": "markdown",
   "metadata": {},
   "source": [
    "### Содержание\n",
    "\n",
    "##### 1.Подготовка данных:\n",
    "* [1.1 Откытие файлов и их изучение.](#1-bullet)\n",
    "* [1.2 Проверка, что эффективность обогащения рассчитана правильно. Вычисление её на обучающей выборке для признака rougher.output.recovery. Нахождение MAE между расчётами и значением признака.](#2-bullet)\n",
    "* [1.3 Анализ признаков недоступных в тестовой выборке.](#3-bullet)\n",
    "\n",
    "##### Часть 2. Анализ данных:\n",
    "* [2.1 Как меняется концентрация металлов (Au, Ag, Pb) на различных этапах очистки.](#4-bullet)\n",
    "* [2.2 Сравнение распределения размеров гранул сырья на обучающей и тестовой выборках.](#5-bullet)\n",
    "* [2.3 Исследование суммарной концентрацию всех веществ на разных стадиях: в сырье, в черновом и финальном концентратах.](#6-bullet)\n",
    "    \n",
    "##### Часть 3. Построение модели:\n",
    "* [3.1 Функция для вычисления итоговой sMAPE.](#7-bullet)\n",
    "* [3.2 Лучшая модель](#8-bullet)\n",
    "\n"
   ]
  },
  {
   "cell_type": "markdown",
   "metadata": {},
   "source": [
    "# 1. Подготовка данных"
   ]
  },
  {
   "cell_type": "code",
   "execution_count": 1,
   "metadata": {},
   "outputs": [],
   "source": [
    "import pandas as pd\n",
    "import numpy as np\n",
    "from sklearn.preprocessing import OrdinalEncoder \n",
    "from sklearn.model_selection import train_test_split\n",
    "from sklearn.linear_model import LinearRegression\n",
    "from sklearn.metrics import mean_absolute_error\n",
    "from sklearn.ensemble import RandomForestRegressor\n",
    "from sklearn.model_selection import cross_val_score\n",
    "from sklearn.metrics import make_scorer\n",
    "from scipy import stats as st\n",
    "import matplotlib.pyplot as plt\n",
    "import seaborn as sns\n",
    "from sklearn.metrics import f1_score\n",
    "import matplotlib.pyplot as plt\n",
    "import matplotlib"
   ]
  },
  {
   "cell_type": "code",
   "execution_count": 2,
   "metadata": {},
   "outputs": [],
   "source": [
    "data_train = pd.read_csv('/datasets/gold_recovery_train.csv')\n",
    "data_test = pd.read_csv('/datasets/gold_recovery_test.csv')\n",
    "data_full = pd.read_csv('/datasets/gold_recovery_full.csv')"
   ]
  },
  {
   "cell_type": "code",
   "execution_count": 3,
   "metadata": {},
   "outputs": [
    {
     "data": {
      "text/plain": [
       "date                                            0\n",
       "primary_cleaner.input.sulfate                 302\n",
       "primary_cleaner.input.depressant              284\n",
       "primary_cleaner.input.feed_size                 0\n",
       "primary_cleaner.input.xanthate                166\n",
       "primary_cleaner.state.floatbank8_a_air         16\n",
       "primary_cleaner.state.floatbank8_a_level       16\n",
       "primary_cleaner.state.floatbank8_b_air         16\n",
       "primary_cleaner.state.floatbank8_b_level       16\n",
       "primary_cleaner.state.floatbank8_c_air         16\n",
       "primary_cleaner.state.floatbank8_c_level       16\n",
       "primary_cleaner.state.floatbank8_d_air         16\n",
       "primary_cleaner.state.floatbank8_d_level       16\n",
       "rougher.input.feed_ag                          16\n",
       "rougher.input.feed_pb                          16\n",
       "rougher.input.feed_rate                        40\n",
       "rougher.input.feed_size                        22\n",
       "rougher.input.feed_sol                         67\n",
       "rougher.input.feed_au                          16\n",
       "rougher.input.floatbank10_sulfate             257\n",
       "rougher.input.floatbank10_xanthate            123\n",
       "rougher.input.floatbank11_sulfate              55\n",
       "rougher.input.floatbank11_xanthate            353\n",
       "rougher.state.floatbank10_a_air                17\n",
       "rougher.state.floatbank10_a_level              16\n",
       "rougher.state.floatbank10_b_air                17\n",
       "rougher.state.floatbank10_b_level              16\n",
       "rougher.state.floatbank10_c_air                17\n",
       "rougher.state.floatbank10_c_level              16\n",
       "rougher.state.floatbank10_d_air                17\n",
       "rougher.state.floatbank10_d_level              16\n",
       "rougher.state.floatbank10_e_air                17\n",
       "rougher.state.floatbank10_e_level              16\n",
       "rougher.state.floatbank10_f_air                17\n",
       "rougher.state.floatbank10_f_level              16\n",
       "secondary_cleaner.state.floatbank2_a_air       20\n",
       "secondary_cleaner.state.floatbank2_a_level     16\n",
       "secondary_cleaner.state.floatbank2_b_air       23\n",
       "secondary_cleaner.state.floatbank2_b_level     16\n",
       "secondary_cleaner.state.floatbank3_a_air       34\n",
       "secondary_cleaner.state.floatbank3_a_level     16\n",
       "secondary_cleaner.state.floatbank3_b_air       16\n",
       "secondary_cleaner.state.floatbank3_b_level     16\n",
       "secondary_cleaner.state.floatbank4_a_air       16\n",
       "secondary_cleaner.state.floatbank4_a_level     16\n",
       "secondary_cleaner.state.floatbank4_b_air       16\n",
       "secondary_cleaner.state.floatbank4_b_level     16\n",
       "secondary_cleaner.state.floatbank5_a_air       16\n",
       "secondary_cleaner.state.floatbank5_a_level     16\n",
       "secondary_cleaner.state.floatbank5_b_air       16\n",
       "secondary_cleaner.state.floatbank5_b_level     16\n",
       "secondary_cleaner.state.floatbank6_a_air       16\n",
       "secondary_cleaner.state.floatbank6_a_level     16\n",
       "dtype: int64"
      ]
     },
     "execution_count": 3,
     "metadata": {},
     "output_type": "execute_result"
    }
   ],
   "source": [
    "data_test.isna().sum()"
   ]
  },
  {
   "cell_type": "code",
   "execution_count": 4,
   "metadata": {},
   "outputs": [
    {
     "name": "stdout",
     "output_type": "stream",
     "text": [
      "<class 'pandas.core.frame.DataFrame'>\n",
      "RangeIndex: 16860 entries, 0 to 16859\n",
      "Data columns (total 87 columns):\n",
      "date                                                  16860 non-null object\n",
      "final.output.concentrate_ag                           16788 non-null float64\n",
      "final.output.concentrate_pb                           16788 non-null float64\n",
      "final.output.concentrate_sol                          16490 non-null float64\n",
      "final.output.concentrate_au                           16789 non-null float64\n",
      "final.output.recovery                                 15339 non-null float64\n",
      "final.output.tail_ag                                  16794 non-null float64\n",
      "final.output.tail_pb                                  16677 non-null float64\n",
      "final.output.tail_sol                                 16715 non-null float64\n",
      "final.output.tail_au                                  16794 non-null float64\n",
      "primary_cleaner.input.sulfate                         15553 non-null float64\n",
      "primary_cleaner.input.depressant                      15598 non-null float64\n",
      "primary_cleaner.input.feed_size                       16860 non-null float64\n",
      "primary_cleaner.input.xanthate                        15875 non-null float64\n",
      "primary_cleaner.output.concentrate_ag                 16778 non-null float64\n",
      "primary_cleaner.output.concentrate_pb                 16502 non-null float64\n",
      "primary_cleaner.output.concentrate_sol                16224 non-null float64\n",
      "primary_cleaner.output.concentrate_au                 16778 non-null float64\n",
      "primary_cleaner.output.tail_ag                        16777 non-null float64\n",
      "primary_cleaner.output.tail_pb                        16761 non-null float64\n",
      "primary_cleaner.output.tail_sol                       16579 non-null float64\n",
      "primary_cleaner.output.tail_au                        16777 non-null float64\n",
      "primary_cleaner.state.floatbank8_a_air                16820 non-null float64\n",
      "primary_cleaner.state.floatbank8_a_level              16827 non-null float64\n",
      "primary_cleaner.state.floatbank8_b_air                16820 non-null float64\n",
      "primary_cleaner.state.floatbank8_b_level              16833 non-null float64\n",
      "primary_cleaner.state.floatbank8_c_air                16822 non-null float64\n",
      "primary_cleaner.state.floatbank8_c_level              16833 non-null float64\n",
      "primary_cleaner.state.floatbank8_d_air                16821 non-null float64\n",
      "primary_cleaner.state.floatbank8_d_level              16833 non-null float64\n",
      "rougher.calculation.sulfate_to_au_concentrate         16833 non-null float64\n",
      "rougher.calculation.floatbank10_sulfate_to_au_feed    16833 non-null float64\n",
      "rougher.calculation.floatbank11_sulfate_to_au_feed    16833 non-null float64\n",
      "rougher.calculation.au_pb_ratio                       15618 non-null float64\n",
      "rougher.input.feed_ag                                 16778 non-null float64\n",
      "rougher.input.feed_pb                                 16632 non-null float64\n",
      "rougher.input.feed_rate                               16347 non-null float64\n",
      "rougher.input.feed_size                               16443 non-null float64\n",
      "rougher.input.feed_sol                                16568 non-null float64\n",
      "rougher.input.feed_au                                 16777 non-null float64\n",
      "rougher.input.floatbank10_sulfate                     15816 non-null float64\n",
      "rougher.input.floatbank10_xanthate                    16514 non-null float64\n",
      "rougher.input.floatbank11_sulfate                     16237 non-null float64\n",
      "rougher.input.floatbank11_xanthate                    14956 non-null float64\n",
      "rougher.output.concentrate_ag                         16778 non-null float64\n",
      "rougher.output.concentrate_pb                         16778 non-null float64\n",
      "rougher.output.concentrate_sol                        16698 non-null float64\n",
      "rougher.output.concentrate_au                         16778 non-null float64\n",
      "rougher.output.recovery                               14287 non-null float64\n",
      "rougher.output.tail_ag                                14610 non-null float64\n",
      "rougher.output.tail_pb                                16778 non-null float64\n",
      "rougher.output.tail_sol                               14611 non-null float64\n",
      "rougher.output.tail_au                                14611 non-null float64\n",
      "rougher.state.floatbank10_a_air                       16807 non-null float64\n",
      "rougher.state.floatbank10_a_level                     16807 non-null float64\n",
      "rougher.state.floatbank10_b_air                       16807 non-null float64\n",
      "rougher.state.floatbank10_b_level                     16807 non-null float64\n",
      "rougher.state.floatbank10_c_air                       16807 non-null float64\n",
      "rougher.state.floatbank10_c_level                     16814 non-null float64\n",
      "rougher.state.floatbank10_d_air                       16802 non-null float64\n",
      "rougher.state.floatbank10_d_level                     16809 non-null float64\n",
      "rougher.state.floatbank10_e_air                       16257 non-null float64\n",
      "rougher.state.floatbank10_e_level                     16809 non-null float64\n",
      "rougher.state.floatbank10_f_air                       16802 non-null float64\n",
      "rougher.state.floatbank10_f_level                     16802 non-null float64\n",
      "secondary_cleaner.output.tail_ag                      16776 non-null float64\n",
      "secondary_cleaner.output.tail_pb                      16764 non-null float64\n",
      "secondary_cleaner.output.tail_sol                     14874 non-null float64\n",
      "secondary_cleaner.output.tail_au                      16778 non-null float64\n",
      "secondary_cleaner.state.floatbank2_a_air              16497 non-null float64\n",
      "secondary_cleaner.state.floatbank2_a_level            16751 non-null float64\n",
      "secondary_cleaner.state.floatbank2_b_air              16705 non-null float64\n",
      "secondary_cleaner.state.floatbank2_b_level            16748 non-null float64\n",
      "secondary_cleaner.state.floatbank3_a_air              16763 non-null float64\n",
      "secondary_cleaner.state.floatbank3_a_level            16747 non-null float64\n",
      "secondary_cleaner.state.floatbank3_b_air              16752 non-null float64\n",
      "secondary_cleaner.state.floatbank3_b_level            16750 non-null float64\n",
      "secondary_cleaner.state.floatbank4_a_air              16731 non-null float64\n",
      "secondary_cleaner.state.floatbank4_a_level            16747 non-null float64\n",
      "secondary_cleaner.state.floatbank4_b_air              16768 non-null float64\n",
      "secondary_cleaner.state.floatbank4_b_level            16767 non-null float64\n",
      "secondary_cleaner.state.floatbank5_a_air              16775 non-null float64\n",
      "secondary_cleaner.state.floatbank5_a_level            16775 non-null float64\n",
      "secondary_cleaner.state.floatbank5_b_air              16775 non-null float64\n",
      "secondary_cleaner.state.floatbank5_b_level            16776 non-null float64\n",
      "secondary_cleaner.state.floatbank6_a_air              16757 non-null float64\n",
      "secondary_cleaner.state.floatbank6_a_level            16775 non-null float64\n",
      "dtypes: float64(86), object(1)\n",
      "memory usage: 11.2+ MB\n",
      "<class 'pandas.core.frame.DataFrame'>\n",
      "RangeIndex: 5856 entries, 0 to 5855\n",
      "Data columns (total 53 columns):\n",
      "date                                          5856 non-null object\n",
      "primary_cleaner.input.sulfate                 5554 non-null float64\n",
      "primary_cleaner.input.depressant              5572 non-null float64\n",
      "primary_cleaner.input.feed_size               5856 non-null float64\n",
      "primary_cleaner.input.xanthate                5690 non-null float64\n",
      "primary_cleaner.state.floatbank8_a_air        5840 non-null float64\n",
      "primary_cleaner.state.floatbank8_a_level      5840 non-null float64\n",
      "primary_cleaner.state.floatbank8_b_air        5840 non-null float64\n",
      "primary_cleaner.state.floatbank8_b_level      5840 non-null float64\n",
      "primary_cleaner.state.floatbank8_c_air        5840 non-null float64\n",
      "primary_cleaner.state.floatbank8_c_level      5840 non-null float64\n",
      "primary_cleaner.state.floatbank8_d_air        5840 non-null float64\n",
      "primary_cleaner.state.floatbank8_d_level      5840 non-null float64\n",
      "rougher.input.feed_ag                         5840 non-null float64\n",
      "rougher.input.feed_pb                         5840 non-null float64\n",
      "rougher.input.feed_rate                       5816 non-null float64\n",
      "rougher.input.feed_size                       5834 non-null float64\n",
      "rougher.input.feed_sol                        5789 non-null float64\n",
      "rougher.input.feed_au                         5840 non-null float64\n",
      "rougher.input.floatbank10_sulfate             5599 non-null float64\n",
      "rougher.input.floatbank10_xanthate            5733 non-null float64\n",
      "rougher.input.floatbank11_sulfate             5801 non-null float64\n",
      "rougher.input.floatbank11_xanthate            5503 non-null float64\n",
      "rougher.state.floatbank10_a_air               5839 non-null float64\n",
      "rougher.state.floatbank10_a_level             5840 non-null float64\n",
      "rougher.state.floatbank10_b_air               5839 non-null float64\n",
      "rougher.state.floatbank10_b_level             5840 non-null float64\n",
      "rougher.state.floatbank10_c_air               5839 non-null float64\n",
      "rougher.state.floatbank10_c_level             5840 non-null float64\n",
      "rougher.state.floatbank10_d_air               5839 non-null float64\n",
      "rougher.state.floatbank10_d_level             5840 non-null float64\n",
      "rougher.state.floatbank10_e_air               5839 non-null float64\n",
      "rougher.state.floatbank10_e_level             5840 non-null float64\n",
      "rougher.state.floatbank10_f_air               5839 non-null float64\n",
      "rougher.state.floatbank10_f_level             5840 non-null float64\n",
      "secondary_cleaner.state.floatbank2_a_air      5836 non-null float64\n",
      "secondary_cleaner.state.floatbank2_a_level    5840 non-null float64\n",
      "secondary_cleaner.state.floatbank2_b_air      5833 non-null float64\n",
      "secondary_cleaner.state.floatbank2_b_level    5840 non-null float64\n",
      "secondary_cleaner.state.floatbank3_a_air      5822 non-null float64\n",
      "secondary_cleaner.state.floatbank3_a_level    5840 non-null float64\n",
      "secondary_cleaner.state.floatbank3_b_air      5840 non-null float64\n",
      "secondary_cleaner.state.floatbank3_b_level    5840 non-null float64\n",
      "secondary_cleaner.state.floatbank4_a_air      5840 non-null float64\n",
      "secondary_cleaner.state.floatbank4_a_level    5840 non-null float64\n",
      "secondary_cleaner.state.floatbank4_b_air      5840 non-null float64\n",
      "secondary_cleaner.state.floatbank4_b_level    5840 non-null float64\n",
      "secondary_cleaner.state.floatbank5_a_air      5840 non-null float64\n",
      "secondary_cleaner.state.floatbank5_a_level    5840 non-null float64\n",
      "secondary_cleaner.state.floatbank5_b_air      5840 non-null float64\n",
      "secondary_cleaner.state.floatbank5_b_level    5840 non-null float64\n",
      "secondary_cleaner.state.floatbank6_a_air      5840 non-null float64\n",
      "secondary_cleaner.state.floatbank6_a_level    5840 non-null float64\n",
      "dtypes: float64(52), object(1)\n",
      "memory usage: 2.4+ MB\n",
      "<class 'pandas.core.frame.DataFrame'>\n",
      "RangeIndex: 22716 entries, 0 to 22715\n",
      "Data columns (total 87 columns):\n",
      "date                                                  22716 non-null object\n",
      "final.output.concentrate_ag                           22627 non-null float64\n",
      "final.output.concentrate_pb                           22629 non-null float64\n",
      "final.output.concentrate_sol                          22331 non-null float64\n",
      "final.output.concentrate_au                           22630 non-null float64\n",
      "final.output.recovery                                 20753 non-null float64\n",
      "final.output.tail_ag                                  22633 non-null float64\n",
      "final.output.tail_pb                                  22516 non-null float64\n",
      "final.output.tail_sol                                 22445 non-null float64\n",
      "final.output.tail_au                                  22635 non-null float64\n",
      "primary_cleaner.input.sulfate                         21107 non-null float64\n",
      "primary_cleaner.input.depressant                      21170 non-null float64\n",
      "primary_cleaner.input.feed_size                       22716 non-null float64\n",
      "primary_cleaner.input.xanthate                        21565 non-null float64\n",
      "primary_cleaner.output.concentrate_ag                 22618 non-null float64\n",
      "primary_cleaner.output.concentrate_pb                 22268 non-null float64\n",
      "primary_cleaner.output.concentrate_sol                21918 non-null float64\n",
      "primary_cleaner.output.concentrate_au                 22618 non-null float64\n",
      "primary_cleaner.output.tail_ag                        22614 non-null float64\n",
      "primary_cleaner.output.tail_pb                        22594 non-null float64\n",
      "primary_cleaner.output.tail_sol                       22365 non-null float64\n",
      "primary_cleaner.output.tail_au                        22617 non-null float64\n",
      "primary_cleaner.state.floatbank8_a_air                22660 non-null float64\n",
      "primary_cleaner.state.floatbank8_a_level              22667 non-null float64\n",
      "primary_cleaner.state.floatbank8_b_air                22660 non-null float64\n",
      "primary_cleaner.state.floatbank8_b_level              22673 non-null float64\n",
      "primary_cleaner.state.floatbank8_c_air                22662 non-null float64\n",
      "primary_cleaner.state.floatbank8_c_level              22673 non-null float64\n",
      "primary_cleaner.state.floatbank8_d_air                22661 non-null float64\n",
      "primary_cleaner.state.floatbank8_d_level              22673 non-null float64\n",
      "rougher.calculation.sulfate_to_au_concentrate         22672 non-null float64\n",
      "rougher.calculation.floatbank10_sulfate_to_au_feed    22672 non-null float64\n",
      "rougher.calculation.floatbank11_sulfate_to_au_feed    22672 non-null float64\n",
      "rougher.calculation.au_pb_ratio                       21089 non-null float64\n",
      "rougher.input.feed_ag                                 22618 non-null float64\n",
      "rougher.input.feed_pb                                 22472 non-null float64\n",
      "rougher.input.feed_rate                               22163 non-null float64\n",
      "rougher.input.feed_size                               22277 non-null float64\n",
      "rougher.input.feed_sol                                22357 non-null float64\n",
      "rougher.input.feed_au                                 22617 non-null float64\n",
      "rougher.input.floatbank10_sulfate                     21415 non-null float64\n",
      "rougher.input.floatbank10_xanthate                    22247 non-null float64\n",
      "rougher.input.floatbank11_sulfate                     22038 non-null float64\n",
      "rougher.input.floatbank11_xanthate                    20459 non-null float64\n",
      "rougher.output.concentrate_ag                         22618 non-null float64\n",
      "rougher.output.concentrate_pb                         22618 non-null float64\n",
      "rougher.output.concentrate_sol                        22526 non-null float64\n",
      "rougher.output.concentrate_au                         22618 non-null float64\n",
      "rougher.output.recovery                               19597 non-null float64\n",
      "rougher.output.tail_ag                                19979 non-null float64\n",
      "rougher.output.tail_pb                                22618 non-null float64\n",
      "rougher.output.tail_sol                               19980 non-null float64\n",
      "rougher.output.tail_au                                19980 non-null float64\n",
      "rougher.state.floatbank10_a_air                       22646 non-null float64\n",
      "rougher.state.floatbank10_a_level                     22647 non-null float64\n",
      "rougher.state.floatbank10_b_air                       22646 non-null float64\n",
      "rougher.state.floatbank10_b_level                     22647 non-null float64\n",
      "rougher.state.floatbank10_c_air                       22646 non-null float64\n",
      "rougher.state.floatbank10_c_level                     22654 non-null float64\n",
      "rougher.state.floatbank10_d_air                       22641 non-null float64\n",
      "rougher.state.floatbank10_d_level                     22649 non-null float64\n",
      "rougher.state.floatbank10_e_air                       22096 non-null float64\n",
      "rougher.state.floatbank10_e_level                     22649 non-null float64\n",
      "rougher.state.floatbank10_f_air                       22641 non-null float64\n",
      "rougher.state.floatbank10_f_level                     22642 non-null float64\n",
      "secondary_cleaner.output.tail_ag                      22616 non-null float64\n",
      "secondary_cleaner.output.tail_pb                      22600 non-null float64\n",
      "secondary_cleaner.output.tail_sol                     20501 non-null float64\n",
      "secondary_cleaner.output.tail_au                      22618 non-null float64\n",
      "secondary_cleaner.state.floatbank2_a_air              22333 non-null float64\n",
      "secondary_cleaner.state.floatbank2_a_level            22591 non-null float64\n",
      "secondary_cleaner.state.floatbank2_b_air              22538 non-null float64\n",
      "secondary_cleaner.state.floatbank2_b_level            22588 non-null float64\n",
      "secondary_cleaner.state.floatbank3_a_air              22585 non-null float64\n",
      "secondary_cleaner.state.floatbank3_a_level            22587 non-null float64\n",
      "secondary_cleaner.state.floatbank3_b_air              22592 non-null float64\n",
      "secondary_cleaner.state.floatbank3_b_level            22590 non-null float64\n",
      "secondary_cleaner.state.floatbank4_a_air              22571 non-null float64\n",
      "secondary_cleaner.state.floatbank4_a_level            22587 non-null float64\n",
      "secondary_cleaner.state.floatbank4_b_air              22608 non-null float64\n",
      "secondary_cleaner.state.floatbank4_b_level            22607 non-null float64\n",
      "secondary_cleaner.state.floatbank5_a_air              22615 non-null float64\n",
      "secondary_cleaner.state.floatbank5_a_level            22615 non-null float64\n",
      "secondary_cleaner.state.floatbank5_b_air              22615 non-null float64\n",
      "secondary_cleaner.state.floatbank5_b_level            22616 non-null float64\n",
      "secondary_cleaner.state.floatbank6_a_air              22597 non-null float64\n",
      "secondary_cleaner.state.floatbank6_a_level            22615 non-null float64\n",
      "dtypes: float64(86), object(1)\n",
      "memory usage: 15.1+ MB\n"
     ]
    }
   ],
   "source": [
    "# узнаем тип значения  \n",
    "data_train.info() \n",
    "data_test.info()\n",
    "data_full.info()\n",
    "\n",
    "\n",
    "# удаление и замена nan \n",
    "mean_values = data_train.mean() \n",
    "\n",
    "data_train.dropna(subset = ['rougher.output.recovery', 'final.output.recovery'], inplace = True)\n",
    "data_train = data_train.fillna(mean_values)\n",
    "\n",
    "data_full.dropna(subset = ['rougher.output.recovery', 'final.output.recovery'], inplace = True)\n",
    "data_full = data_full.fillna(mean_values)\n",
    "\n",
    "data_test = data_test.fillna(mean_values) ### лишнее\n",
    "\n",
    "data_test_new = data_test.merge(data_full[['date', 'rougher.output.recovery', 'final.output.recovery']], how='left', on='date')\n",
    "data_test_new.dropna(subset = ['rougher.output.recovery', 'final.output.recovery'], inplace = True) \n",
    "data_test_new = data_test_new.fillna(mean_values) \n",
    "\n",
    "# удаление дат\n",
    "data_train = data_train.drop('date', axis=1)\n",
    "data_test = data_test.drop('date', axis=1) \n",
    "data_full = data_full.drop('date', axis=1) \n",
    "\n"
   ]
  },
  {
   "cell_type": "code",
   "execution_count": 5,
   "metadata": {},
   "outputs": [
    {
     "data": {
      "text/plain": [
       "primary_cleaner.input.sulfate                 0\n",
       "primary_cleaner.input.depressant              0\n",
       "primary_cleaner.input.feed_size               0\n",
       "primary_cleaner.input.xanthate                0\n",
       "primary_cleaner.state.floatbank8_a_air        0\n",
       "primary_cleaner.state.floatbank8_a_level      0\n",
       "primary_cleaner.state.floatbank8_b_air        0\n",
       "primary_cleaner.state.floatbank8_b_level      0\n",
       "primary_cleaner.state.floatbank8_c_air        0\n",
       "primary_cleaner.state.floatbank8_c_level      0\n",
       "primary_cleaner.state.floatbank8_d_air        0\n",
       "primary_cleaner.state.floatbank8_d_level      0\n",
       "rougher.input.feed_ag                         0\n",
       "rougher.input.feed_pb                         0\n",
       "rougher.input.feed_rate                       0\n",
       "rougher.input.feed_size                       0\n",
       "rougher.input.feed_sol                        0\n",
       "rougher.input.feed_au                         0\n",
       "rougher.input.floatbank10_sulfate             0\n",
       "rougher.input.floatbank10_xanthate            0\n",
       "rougher.input.floatbank11_sulfate             0\n",
       "rougher.input.floatbank11_xanthate            0\n",
       "rougher.state.floatbank10_a_air               0\n",
       "rougher.state.floatbank10_a_level             0\n",
       "rougher.state.floatbank10_b_air               0\n",
       "rougher.state.floatbank10_b_level             0\n",
       "rougher.state.floatbank10_c_air               0\n",
       "rougher.state.floatbank10_c_level             0\n",
       "rougher.state.floatbank10_d_air               0\n",
       "rougher.state.floatbank10_d_level             0\n",
       "rougher.state.floatbank10_e_air               0\n",
       "rougher.state.floatbank10_e_level             0\n",
       "rougher.state.floatbank10_f_air               0\n",
       "rougher.state.floatbank10_f_level             0\n",
       "secondary_cleaner.state.floatbank2_a_air      0\n",
       "secondary_cleaner.state.floatbank2_a_level    0\n",
       "secondary_cleaner.state.floatbank2_b_air      0\n",
       "secondary_cleaner.state.floatbank2_b_level    0\n",
       "secondary_cleaner.state.floatbank3_a_air      0\n",
       "secondary_cleaner.state.floatbank3_a_level    0\n",
       "secondary_cleaner.state.floatbank3_b_air      0\n",
       "secondary_cleaner.state.floatbank3_b_level    0\n",
       "secondary_cleaner.state.floatbank4_a_air      0\n",
       "secondary_cleaner.state.floatbank4_a_level    0\n",
       "secondary_cleaner.state.floatbank4_b_air      0\n",
       "secondary_cleaner.state.floatbank4_b_level    0\n",
       "secondary_cleaner.state.floatbank5_a_air      0\n",
       "secondary_cleaner.state.floatbank5_a_level    0\n",
       "secondary_cleaner.state.floatbank5_b_air      0\n",
       "secondary_cleaner.state.floatbank5_b_level    0\n",
       "secondary_cleaner.state.floatbank6_a_air      0\n",
       "secondary_cleaner.state.floatbank6_a_level    0\n",
       "dtype: int64"
      ]
     },
     "execution_count": 5,
     "metadata": {},
     "output_type": "execute_result"
    }
   ],
   "source": [
    "data_test.isna().sum()"
   ]
  },
  {
   "cell_type": "markdown",
   "metadata": {},
   "source": [
    "<a id=\"1-bullet\"></a>\n",
    "**Удалил nan в целевых признаках. В остальных колонках заменил значение на среднее и удалил столбец с датами. С ним не получиться оучить модель.** "
   ]
  },
  {
   "cell_type": "code",
   "execution_count": 6,
   "metadata": {},
   "outputs": [],
   "source": [
    "F = data_train['rougher.input.feed_au']\n",
    "C = data_train['rougher.output.concentrate_au']\n",
    "T = data_train['rougher.output.tail_au']"
   ]
  },
  {
   "cell_type": "code",
   "execution_count": 7,
   "metadata": {},
   "outputs": [],
   "source": [
    "data_train['recovery'] = ((C * (F - T)) / (F * (C - T)))*100\n",
    "data_train = data_train.dropna().reset_index(drop=True)"
   ]
  },
  {
   "cell_type": "code",
   "execution_count": 8,
   "metadata": {},
   "outputs": [
    {
     "data": {
      "text/html": [
       "<div>\n",
       "<style scoped>\n",
       "    .dataframe tbody tr th:only-of-type {\n",
       "        vertical-align: middle;\n",
       "    }\n",
       "\n",
       "    .dataframe tbody tr th {\n",
       "        vertical-align: top;\n",
       "    }\n",
       "\n",
       "    .dataframe thead th {\n",
       "        text-align: right;\n",
       "    }\n",
       "</style>\n",
       "<table border=\"1\" class=\"dataframe\">\n",
       "  <thead>\n",
       "    <tr style=\"text-align: right;\">\n",
       "      <th></th>\n",
       "      <th>rougher.output.recovery</th>\n",
       "      <th>recovery</th>\n",
       "    </tr>\n",
       "  </thead>\n",
       "  <tbody>\n",
       "    <tr>\n",
       "      <td>0</td>\n",
       "      <td>87.107763</td>\n",
       "      <td>87.107763</td>\n",
       "    </tr>\n",
       "    <tr>\n",
       "      <td>1</td>\n",
       "      <td>86.843261</td>\n",
       "      <td>86.843261</td>\n",
       "    </tr>\n",
       "    <tr>\n",
       "      <td>2</td>\n",
       "      <td>86.842308</td>\n",
       "      <td>86.842308</td>\n",
       "    </tr>\n",
       "    <tr>\n",
       "      <td>3</td>\n",
       "      <td>87.226430</td>\n",
       "      <td>87.226430</td>\n",
       "    </tr>\n",
       "    <tr>\n",
       "      <td>4</td>\n",
       "      <td>86.688794</td>\n",
       "      <td>86.688794</td>\n",
       "    </tr>\n",
       "    <tr>\n",
       "      <td>5</td>\n",
       "      <td>88.156912</td>\n",
       "      <td>88.156912</td>\n",
       "    </tr>\n",
       "    <tr>\n",
       "      <td>6</td>\n",
       "      <td>88.168065</td>\n",
       "      <td>88.168065</td>\n",
       "    </tr>\n",
       "    <tr>\n",
       "      <td>7</td>\n",
       "      <td>87.668336</td>\n",
       "      <td>87.668336</td>\n",
       "    </tr>\n",
       "    <tr>\n",
       "      <td>8</td>\n",
       "      <td>87.035862</td>\n",
       "      <td>87.035862</td>\n",
       "    </tr>\n",
       "    <tr>\n",
       "      <td>9</td>\n",
       "      <td>87.650868</td>\n",
       "      <td>87.650868</td>\n",
       "    </tr>\n",
       "  </tbody>\n",
       "</table>\n",
       "</div>"
      ],
      "text/plain": [
       "   rougher.output.recovery   recovery\n",
       "0                87.107763  87.107763\n",
       "1                86.843261  86.843261\n",
       "2                86.842308  86.842308\n",
       "3                87.226430  87.226430\n",
       "4                86.688794  86.688794\n",
       "5                88.156912  88.156912\n",
       "6                88.168065  88.168065\n",
       "7                87.668336  87.668336\n",
       "8                87.035862  87.035862\n",
       "9                87.650868  87.650868"
      ]
     },
     "execution_count": 8,
     "metadata": {},
     "output_type": "execute_result"
    }
   ],
   "source": [
    "data_train[['rougher.output.recovery','recovery']].head(10)"
   ]
  },
  {
   "cell_type": "markdown",
   "metadata": {},
   "source": [
    "<a id=\"2-bullet\"></a>\n",
    "**значения отличаются. В меньшую сторону**"
   ]
  },
  {
   "cell_type": "code",
   "execution_count": 9,
   "metadata": {},
   "outputs": [
    {
     "data": {
      "text/plain": [
       "9.46896498277233e-15"
      ]
     },
     "execution_count": 9,
     "metadata": {},
     "output_type": "execute_result"
    }
   ],
   "source": [
    "mean_absolute_error(data_train['rougher.output.recovery'], data_train['recovery'])"
   ]
  },
  {
   "cell_type": "markdown",
   "metadata": {},
   "source": [
    "В среднем мы ошибаемся на 0.0000000000000095 когда находим эффективность обогащения. Мне кажется это очень незначительная погрешность"
   ]
  },
  {
   "cell_type": "markdown",
   "metadata": {},
   "source": [
    "**По результатам наша найденная переменная не очень хороша. Как-то модель очень плохо по ней учиться**"
   ]
  },
  {
   "cell_type": "code",
   "execution_count": 10,
   "metadata": {},
   "outputs": [
    {
     "data": {
      "text/plain": [
       "{'final.output.concentrate_ag',\n",
       " 'final.output.concentrate_au',\n",
       " 'final.output.concentrate_pb',\n",
       " 'final.output.concentrate_sol',\n",
       " 'final.output.recovery',\n",
       " 'final.output.tail_ag',\n",
       " 'final.output.tail_au',\n",
       " 'final.output.tail_pb',\n",
       " 'final.output.tail_sol',\n",
       " 'primary_cleaner.output.concentrate_ag',\n",
       " 'primary_cleaner.output.concentrate_au',\n",
       " 'primary_cleaner.output.concentrate_pb',\n",
       " 'primary_cleaner.output.concentrate_sol',\n",
       " 'primary_cleaner.output.tail_ag',\n",
       " 'primary_cleaner.output.tail_au',\n",
       " 'primary_cleaner.output.tail_pb',\n",
       " 'primary_cleaner.output.tail_sol',\n",
       " 'recovery',\n",
       " 'rougher.calculation.au_pb_ratio',\n",
       " 'rougher.calculation.floatbank10_sulfate_to_au_feed',\n",
       " 'rougher.calculation.floatbank11_sulfate_to_au_feed',\n",
       " 'rougher.calculation.sulfate_to_au_concentrate',\n",
       " 'rougher.output.concentrate_ag',\n",
       " 'rougher.output.concentrate_au',\n",
       " 'rougher.output.concentrate_pb',\n",
       " 'rougher.output.concentrate_sol',\n",
       " 'rougher.output.recovery',\n",
       " 'rougher.output.tail_ag',\n",
       " 'rougher.output.tail_au',\n",
       " 'rougher.output.tail_pb',\n",
       " 'rougher.output.tail_sol',\n",
       " 'secondary_cleaner.output.tail_ag',\n",
       " 'secondary_cleaner.output.tail_au',\n",
       " 'secondary_cleaner.output.tail_pb',\n",
       " 'secondary_cleaner.output.tail_sol'}"
      ]
     },
     "execution_count": 10,
     "metadata": {},
     "output_type": "execute_result"
    }
   ],
   "source": [
    "set(list(data_train))\n",
    "set(list(data_test))\n",
    "set(list(data_train)) - set(list(data_test))\n"
   ]
  },
  {
   "cell_type": "code",
   "execution_count": 11,
   "metadata": {},
   "outputs": [],
   "source": [
    "features = data_train[data_test.columns]"
   ]
  },
  {
   "cell_type": "markdown",
   "metadata": {},
   "source": [
    "<a id=\"3-bullet\"></a>\n",
    "\n",
    "В тестовой выборке нет финальных результатов\n",
    "- output — параметры продукта\n",
    "- calculation — расчётные характеристики\n",
    "- **Я так понимаю этих признаков нет потому что они нужны только для обучения**"
   ]
  },
  {
   "cell_type": "markdown",
   "metadata": {},
   "source": [
    "# 2. Анализ данных"
   ]
  },
  {
   "cell_type": "code",
   "execution_count": 12,
   "metadata": {},
   "outputs": [],
   "source": [
    "data_full['input'] = 100 - (data_full['rougher.input.feed_au'] + data_full['rougher.input.feed_ag'] + data_full['rougher.input.feed_pb'] + data_full['rougher.input.feed_sol'])\n",
    "data_full['rougher_output'] = 100 - (data_full['rougher.output.concentrate_au'] + data_full['rougher.output.concentrate_ag']+ data_full['rougher.output.concentrate_pb']+ data_full['rougher.output.concentrate_sol'])\n",
    "data_full['final_output'] = 100 -(data_full['final.output.concentrate_au'] + data_full['final.output.concentrate_ag'] + data_full['final.output.concentrate_pb']+ data_full['final.output.concentrate_sol'])"
   ]
  },
  {
   "cell_type": "code",
   "execution_count": 13,
   "metadata": {},
   "outputs": [
    {
     "data": {
      "image/png": "[encoded data removed]",
      "text/plain": [
       "<Figure size 432x288 with 1 Axes>"
      ]
     },
     "metadata": {
      "needs_background": "light"
     },
     "output_type": "display_data"
    }
   ],
   "source": [
    "plt.xlabel('концентрация остальных металлов в смеси на разных этапах очистки')\n",
    "plt.ylabel('количество значений')\n",
    "plt.title('Доля остальных металлов в смеси')\n",
    "\n",
    "x = data_full['input']\n",
    "y = data_full['rougher_output']\n",
    "a = data_full['final_output']         \n",
    "\n",
    "\n",
    "plt.hist(x, bins=50, alpha=0.5, label='флотация')\n",
    "plt.hist(y, bins=50, alpha=0.5, label='первичная очистка')\n",
    "plt.hist(a, bins=50, alpha=0.5, label='финальные характеристики')\n",
    "plt.legend(loc='upper right')\n",
    "plt.show()"
   ]
  },
  {
   "cell_type": "code",
   "execution_count": 14,
   "metadata": {},
   "outputs": [
    {
     "data": {
      "image/png": "[encoded data removed]",
      "text/plain": [
       "<Figure size 432x288 with 1 Axes>"
      ]
     },
     "metadata": {
      "needs_background": "light"
     },
     "output_type": "display_data"
    }
   ],
   "source": [
    "plt.xlabel('Процент золота в смеси на разных этапах очистки')\n",
    "plt.ylabel('количество значений')\n",
    "plt.title('Доля золота в смеси')\n",
    "\n",
    "x = data_full['rougher.output.concentrate_au']\n",
    "y = data_full['primary_cleaner.output.concentrate_au']\n",
    "a = data_full['final.output.concentrate_au']            \n",
    "b = data_full['rougher.input.feed_au']\n",
    "\n",
    "plt.hist(b, bins=50, alpha=0.5, label='доля золота до очистки')\n",
    "plt.hist(x, bins=50, alpha=0.5, label='флотация')\n",
    "plt.hist(y, bins=50, alpha=0.5, label='первичная очистка')\n",
    "plt.hist(a, bins=50, alpha=0.5, label='финальные характеристики')\n",
    "plt.legend(loc='upper right')\n",
    "plt.show()\n"
   ]
  },
  {
   "cell_type": "code",
   "execution_count": 15,
   "metadata": {},
   "outputs": [
    {
     "data": {
      "image/png": "[encoded data removed]",
      "text/plain": [
       "<Figure size 432x288 with 1 Axes>"
      ]
     },
     "metadata": {
      "needs_background": "light"
     },
     "output_type": "display_data"
    }
   ],
   "source": [
    "plt.xlabel('Процент серебра в смеси на разных этапах очистки')\n",
    "plt.ylabel('количество значений')\n",
    "plt.title('Доля серебра в смеси')\n",
    "x = data_full['rougher.output.concentrate_ag']\n",
    "y = data_full['primary_cleaner.output.concentrate_ag']\n",
    "a = data_full['final.output.concentrate_ag'] \n",
    "b = data_full['rougher.input.feed_ag']\n",
    "\n",
    "plt.hist(b, bins=50, alpha=0.5, label='доля серебра до очистки')\n",
    "plt.hist(x, bins=50, alpha=0.5, label='флотация')\n",
    "plt.hist(y, bins=50, alpha=0.5, label='первичная очистка')\n",
    "plt.hist(a, bins=50, alpha=0.5, label='финальные характеристики')\n",
    "plt.legend(loc='upper right')\n",
    "plt.show()"
   ]
  },
  {
   "cell_type": "code",
   "execution_count": 16,
   "metadata": {},
   "outputs": [
    {
     "data": {
      "image/png": "[encoded data removed]",
      "text/plain": [
       "<Figure size 432x288 with 1 Axes>"
      ]
     },
     "metadata": {
      "needs_background": "light"
     },
     "output_type": "display_data"
    }
   ],
   "source": [
    "plt.xlabel('Процент свинца в смеси на разных этапах очистки')\n",
    "plt.ylabel('количество значений')\n",
    "plt.title('Доля свинца в смеси')\n",
    "x = data_full['rougher.output.concentrate_pb']\n",
    "y = data_full['primary_cleaner.output.concentrate_pb']\n",
    "a = data_full['final.output.concentrate_pb']    \n",
    "b = data_full['rougher.input.feed_pb']\n",
    "\n",
    "plt.hist(b, bins=50, alpha=0.5, label='доля свинца до очистки')\n",
    "plt.hist(x, bins=50, alpha=0.5, label='флотация')\n",
    "plt.hist(y, bins=50, alpha=0.5, label='первичная очистка')\n",
    "plt.hist(a, bins=50, alpha=0.5, label='финальные характеристики')\n",
    "plt.legend(loc='upper right')\n",
    "plt.show()"
   ]
  },
  {
   "cell_type": "code",
   "execution_count": 17,
   "metadata": {},
   "outputs": [
    {
     "data": {
      "image/png": "[encoded data removed]",
      "text/plain": [
       "<Figure size 432x288 with 1 Axes>"
      ]
     },
     "metadata": {
      "needs_background": "light"
     },
     "output_type": "display_data"
    }
   ],
   "source": [
    "plt.xlabel('Доля метала ушедшого в хвосты')\n",
    "plt.ylabel('количество значений')\n",
    "plt.title('Доля элимента в смеси')\n",
    "x = data_full['secondary_cleaner.output.tail_au']\n",
    "y = data_full['secondary_cleaner.output.tail_ag']\n",
    "a = data_full['secondary_cleaner.output.tail_pb']   \n",
    "\n",
    "\n",
    "plt.hist(x, bins=50, alpha=0.5, label='Золото')\n",
    "plt.hist(y, bins=50, alpha=0.5, label='Серебро')\n",
    "plt.hist(a, bins=50, alpha=0.5, label='Свинец')\n",
    "plt.legend(loc='upper right')\n",
    "plt.show()"
   ]
  },
  {
   "cell_type": "markdown",
   "metadata": {},
   "source": [
    "<a id=\"4-bullet\"></a>\n",
    "\n",
    "**На каждом из графиков видно, что очистка работает. И в хвостах довольоо мало золота. Хотя консентрация свинца не сильно меняется. Мне кажется с его фильтрацией точно есть проблемы. Хотя это может быть сделано что-бы утежелить золото**"
   ]
  },
  {
   "cell_type": "code",
   "execution_count": 18,
   "metadata": {},
   "outputs": [
    {
     "data": {
      "image/png": "[encoded data removed]",
      "text/plain": [
       "<Figure size 432x288 with 1 Axes>"
      ]
     },
     "metadata": {
      "needs_background": "light"
     },
     "output_type": "display_data"
    }
   ],
   "source": [
    "plt.xlabel('значения')\n",
    "plt.ylabel('количество значений')\n",
    "plt.title('распределения размеров гранул сырья на обучающей и тестовой выборках')\n",
    "x = data_test['rougher.input.feed_size']\n",
    "y = data_train['rougher.input.feed_size']\n",
    "\n",
    "\n",
    "plt.hist(x, bins=500, alpha=0.5, label='test')\n",
    "plt.hist(y, bins=500, alpha=0.5, label='train')\n",
    "plt.legend(loc='upper right')\n",
    "plt.xlim(20, 120)\n",
    "plt.show()"
   ]
  },
  {
   "cell_type": "code",
   "execution_count": 19,
   "metadata": {},
   "outputs": [
    {
     "data": {
      "text/plain": [
       "(20, 120)"
      ]
     },
     "execution_count": 19,
     "metadata": {},
     "output_type": "execute_result"
    },
    {
     "data": {
      "image/png": "[encoded data removed]",
      "text/plain": [
       "<Figure size 432x288 with 1 Axes>"
      ]
     },
     "metadata": {
      "needs_background": "light"
     },
     "output_type": "display_data"
    }
   ],
   "source": [
    "#matplotlib.style.use('ggplot')\n",
    "\n",
    "plt.xlabel('значения')\n",
    "plt.ylabel('количество значений')\n",
    "plt.title('распределения размеров гранул сырья на обучающей и тестовой выборках')\n",
    "\n",
    "x = data_test['rougher.input.feed_size']\n",
    "y = data_train['rougher.input.feed_size']\n",
    "\n",
    "x.plot.kde(alpha=0.5, label='test')\n",
    "y.plot.kde(alpha=0.5, label='test')\n",
    "plt.legend(loc='upper right')\n",
    "plt.xlim(20, 120)"
   ]
  },
  {
   "cell_type": "markdown",
   "metadata": {},
   "source": [
    "<a id=\"5-bullet\"></a>\n",
    "\n",
    "**Распределения отличаются друг от друга, но не сильно. Оценка модели будет правильной**"
   ]
  },
  {
   "cell_type": "code",
   "execution_count": 20,
   "metadata": {},
   "outputs": [
    {
     "data": {
      "image/png": "[encoded data removed]",
      "text/plain": [
       "<Figure size 432x288 with 1 Axes>"
      ]
     },
     "metadata": {
      "needs_background": "light"
     },
     "output_type": "display_data"
    }
   ],
   "source": [
    "data_full['input_feed'] = data_full['rougher.input.feed_au'] + data_full['rougher.input.feed_ag']\n",
    "+ data_full['rougher.input.feed_pb'] + data_full['rougher.input.feed_sol']\n",
    "data_full = data_full.query('input_feed >= 0.1')\n",
    "data_full['input_feed'].hist(bins=50) # Гистограмма всей таблицы\n",
    "plt.show()"
   ]
  },
  {
   "cell_type": "code",
   "execution_count": 21,
   "metadata": {},
   "outputs": [
    {
     "data": {
      "image/png": "[encoded data removed]",
      "text/plain": [
       "<Figure size 432x288 with 1 Axes>"
      ]
     },
     "metadata": {
      "needs_background": "light"
     },
     "output_type": "display_data"
    }
   ],
   "source": [
    "data_full['all_rougher'] = data_full['rougher.output.concentrate_au'] + data_full['rougher.output.concentrate_ag'] \n",
    "+ data_full['rougher.output.concentrate_pb'] + data_full['rougher.output.concentrate_sol']\n",
    "data_full = data_full.query('all_rougher >= 0.1')\n",
    "data_full['all_rougher'].hist(bins=50) # Гистограмма всей таблицы\n",
    "plt.show()"
   ]
  },
  {
   "cell_type": "code",
   "execution_count": 22,
   "metadata": {},
   "outputs": [
    {
     "data": {
      "image/png": "[encoded data removed]",
      "text/plain": [
       "<Figure size 432x288 with 1 Axes>"
      ]
     },
     "metadata": {
      "needs_background": "light"
     },
     "output_type": "display_data"
    }
   ],
   "source": [
    "data_full['all_primary_cleaner'] = data_full['primary_cleaner.output.concentrate_au'] + data_full['primary_cleaner.output.concentrate_ag']\n",
    "+ data_full['primary_cleaner.output.concentrate_pb'] + data_full['primary_cleaner.output.concentrate_sol']\n",
    "data_full = data_full.query('all_primary_cleaner >= 0.1')\n",
    "data_full['all_primary_cleaner'].hist(bins=30) # Гистограмма всей таблицы\n",
    "plt.show()"
   ]
  },
  {
   "cell_type": "code",
   "execution_count": 23,
   "metadata": {},
   "outputs": [
    {
     "data": {
      "image/png": "[encoded data removed]",
      "text/plain": [
       "<Figure size 432x288 with 1 Axes>"
      ]
     },
     "metadata": {
      "needs_background": "light"
     },
     "output_type": "display_data"
    }
   ],
   "source": [
    "data_full['all_final_cleaner'] = data_full['final.output.concentrate_au'] + data_full['final.output.concentrate_ag']\n",
    "+ data_full['final.output.concentrate_pb'] + data_full['final.output.concentrate_sol']\n",
    "data_full = data_full.query('all_final_cleaner >= 0.1')\n",
    "data_full['all_final_cleaner'].hist(bins=50) # Гистограмма всей таблицы\n",
    "plt.show()"
   ]
  },
  {
   "cell_type": "code",
   "execution_count": 24,
   "metadata": {},
   "outputs": [],
   "source": [
    "def dov_int(sample):\n",
    "\n",
    "    print(\"Cреднее:\", sample.mean())\n",
    "\n",
    "    # 95%-й доверительный интервал для среднего чека мармелада\n",
    "    # распределение Стьюдента scipy.stats.t\n",
    "    # функция для доверительного интервала interval()\n",
    "    confidence_interval = st.t.interval( \n",
    "        0.95, len(sample)-1,sample.mean(), sample.sem()) \n",
    "\n",
    "    print(\"95%-ый доверительный интервал:\", confidence_interval)"
   ]
  },
  {
   "cell_type": "code",
   "execution_count": 25,
   "metadata": {},
   "outputs": [
    {
     "name": "stdout",
     "output_type": "stream",
     "text": [
      "Cреднее: 32.444250508311974\n",
      "95%-ый доверительный интервал: (32.392276951926654, 32.496224064697294)\n",
      "флотация None\n",
      "Cреднее: 41.03491695527976\n",
      "95%-ый доверительный интервал: (40.972395762086485, 41.09743814847304)\n",
      "первичная очистка None\n",
      "Cреднее: 49.49708476880612\n",
      "95%-ый доверительный интервал: (49.44265581801901, 49.551513719593224)\n",
      "финальные характеристики None\n"
     ]
    }
   ],
   "source": [
    "print('флотация', dov_int(data_full['all_rougher']))\n",
    "print('первичная очистка', dov_int(data_full['all_primary_cleaner']))\n",
    "print('финальные характеристики', dov_int(data_full['all_final_cleaner']))\n"
   ]
  },
  {
   "cell_type": "markdown",
   "metadata": {},
   "source": [
    "<a id=\"6-bullet\"></a>\n",
    "\n",
    "**Тут не мало около нулевых выбросов, но удалять мне кажется их будет на правильным. Они встречаются довольно часто, может просто было маленькая консентрация веществ. Вот нулевые значения можно удалить. Раз тех элементов которые нам нужны там все равно нет.**"
   ]
  },
  {
   "cell_type": "code",
   "execution_count": 26,
   "metadata": {},
   "outputs": [],
   "source": [
    "data_train = data_train[data_train['rougher.output.concentrate_au'] + data_train['rougher.output.concentrate_ag'] \n",
    "+ data_train['rougher.output.concentrate_pb'] + data_train['rougher.output.concentrate_sol'] >= 0.1]\n",
    "\n",
    "data_train = data_train[data_train['rougher.input.feed_au'] + data_train['rougher.input.feed_ag'] \n",
    "+ data_train['rougher.input.feed_pb'] + data_train['rougher.input.feed_sol'] >= 0.1]\n",
    "\n",
    "data_train = data_train[data_train['primary_cleaner.output.concentrate_au'] + data_train['primary_cleaner.output.concentrate_ag'] \n",
    "+ data_train['primary_cleaner.output.concentrate_pb'] + data_train['primary_cleaner.output.concentrate_sol'] >= 0.1]\n",
    "\n",
    "data_train = data_train[data_train['final.output.concentrate_au'] + data_train['final.output.concentrate_ag'] \n",
    "+ data_train['final.output.concentrate_pb'] + data_train['final.output.concentrate_sol'] >= 0.1]\n",
    "features = data_train[data_test.columns]"
   ]
  },
  {
   "cell_type": "markdown",
   "metadata": {},
   "source": [
    "# 3. Модель"
   ]
  },
  {
   "cell_type": "code",
   "execution_count": 27,
   "metadata": {},
   "outputs": [],
   "source": [
    "def smape(a, f):\n",
    "    return 1/len(a) * np.sum(2 * np.abs(f-a) / (np.abs(a) + np.abs(f))*100)"
   ]
  },
  {
   "cell_type": "markdown",
   "metadata": {},
   "source": [
    "<a id=\"7-bullet\"></a>\n",
    "**sMAPE**"
   ]
  },
  {
   "cell_type": "code",
   "execution_count": 28,
   "metadata": {},
   "outputs": [
    {
     "name": "stdout",
     "output_type": "stream",
     "text": [
      "7.223139842860681\n",
      "[8.78236402 7.07157641 6.16535149 4.97680286 9.11960443]\n",
      "11.281386161524988\n",
      "[13.32279336 10.29123766 10.36288788  9.16519206 13.26481984]\n",
      "\n",
      "final sMAPE on LinearRegression = 10.266824581858911\n"
     ]
    }
   ],
   "source": [
    "target_rougher = data_train['rougher.output.recovery']\n",
    "target_final = data_train['final.output.recovery']\n",
    "features = data_train[data_test.columns]\n",
    " \n",
    "def smape_final(smape_1, smape_2):\n",
    "    return smape_1 * 0.25 + smape_2 * 0.75\n",
    " \n",
    "model_rougher = LinearRegression()\n",
    "score_rougher = (cross_val_score(model_rougher, features, target_rougher, cv = 5, scoring = make_scorer(smape, greater_is_better=False)) * -1)\n",
    "final_score_rougher = score_rougher.mean()\n",
    "print(final_score_rougher)\n",
    "print(score_rougher)\n",
    " \n",
    "model_final = LinearRegression()\n",
    "score_final = (cross_val_score(model_final, features, target_final, cv = 5, scoring = make_scorer(smape, greater_is_better=False)) * -1)\n",
    "final_score_final = score_final.mean()\n",
    "print(final_score_final)\n",
    "print(score_final)\n",
    " \n",
    "print('\\nfinal sMAPE on LinearRegression =', smape_final(final_score_rougher, final_score_final))"
   ]
  },
  {
   "cell_type": "code",
   "execution_count": 29,
   "metadata": {},
   "outputs": [
    {
     "name": "stdout",
     "output_type": "stream",
     "text": [
      "11.281386161524988\n",
      "[13.32279336 10.29123766 10.36288788  9.16519206 13.26481984]\n",
      "9.434991667756268\n",
      "[ 9.59172037  8.07868754  8.93803451  9.58113505 10.98538087]\n",
      "MAE 9.041244079435483\n",
      "9.698946810069568\n",
      "[ 9.6226955   7.82218241 11.28817066  9.07950051 10.68218498]\n",
      "MAE 9.239210436170456\n",
      "9.577351639484975\n",
      "[ 9.73726807  8.12973732 11.26538759  8.41829758 10.33606764]\n",
      "MAE 9.148014058232013\n",
      "10.382049579650138\n",
      "[10.92595306  9.66628526 11.51819172  8.30734552 11.49247234]\n",
      "MAE 9.751537513355885\n",
      "11.300879793471342\n",
      "[11.228283   14.22846969 10.16194319  8.98925966 11.89644343]\n",
      "MAE 10.440660173721788\n",
      "11.300879793471342\n",
      "[11.228283   14.22846969 10.16194319  8.98925966 11.89644343]\n",
      "9.434991667756268\n",
      "[ 9.59172037  8.07868754  8.93803451  9.58113505 10.98538087]\n",
      "MAE 9.005423233265788\n",
      "9.698946810069568\n",
      "[ 9.6226955   7.82218241 11.28817066  9.07950051 10.68218498]\n",
      "MAE 9.203389590000763\n",
      "9.577351639484975\n",
      "[ 9.73726807  8.12973732 11.26538759  8.41829758 10.33606764]\n",
      "MAE 9.112193212062317\n",
      "10.382049579650138\n",
      "[10.92595306  9.66628526 11.51819172  8.30734552 11.49247234]\n",
      "MAE 9.71571666718619\n",
      "11.300879793471342\n",
      "[11.228283   14.22846969 10.16194319  8.98925966 11.89644343]\n",
      "MAE 10.404839327552093\n",
      "11.300879793471342\n",
      "[11.228283   14.22846969 10.16194319  8.98925966 11.89644343]\n",
      "9.434991667756268\n",
      "[ 9.59172037  8.07868754  8.93803451  9.58113505 10.98538087]\n",
      "MAE 8.930007865615472\n",
      "9.698946810069568\n",
      "[ 9.6226955   7.82218241 11.28817066  9.07950051 10.68218498]\n",
      "MAE 9.127974222350447\n",
      "9.577351639484975\n",
      "[ 9.73726807  8.12973732 11.26538759  8.41829758 10.33606764]\n",
      "MAE 9.036777844412004\n",
      "10.382049579650138\n",
      "[10.92595306  9.66628526 11.51819172  8.30734552 11.49247234]\n",
      "MAE 9.640301299535876\n",
      "11.300879793471342\n",
      "[11.228283   14.22846969 10.16194319  8.98925966 11.89644343]\n",
      "MAE 10.32942395990178\n",
      "11.300879793471342\n",
      "[11.228283   14.22846969 10.16194319  8.98925966 11.89644343]\n",
      "9.434991667756268\n",
      "[ 9.59172037  8.07868754  8.93803451  9.58113505 10.98538087]\n",
      "MAE 8.933421965997061\n",
      "9.698946810069568\n",
      "[ 9.6226955   7.82218241 11.28817066  9.07950051 10.68218498]\n",
      "MAE 9.131388322732036\n",
      "9.577351639484975\n",
      "[ 9.73726807  8.12973732 11.26538759  8.41829758 10.33606764]\n",
      "MAE 9.040191944793591\n",
      "10.382049579650138\n",
      "[10.92595306  9.66628526 11.51819172  8.30734552 11.49247234]\n",
      "MAE 9.643715399917463\n",
      "11.300879793471342\n",
      "[11.228283   14.22846969 10.16194319  8.98925966 11.89644343]\n",
      "MAE 10.332838060283366\n",
      "11.300879793471342\n",
      "[11.228283   14.22846969 10.16194319  8.98925966 11.89644343]\n",
      "9.434991667756268\n",
      "[ 9.59172037  8.07868754  8.93803451  9.58113505 10.98538087]\n",
      "MAE 9.08890686380311\n",
      "9.698946810069568\n",
      "[ 9.6226955   7.82218241 11.28817066  9.07950051 10.68218498]\n",
      "MAE 9.286873220538086\n",
      "9.577351639484975\n",
      "[ 9.73726807  8.12973732 11.26538759  8.41829758 10.33606764]\n",
      "MAE 9.195676842599642\n",
      "10.382049579650138\n",
      "[10.92595306  9.66628526 11.51819172  8.30734552 11.49247234]\n",
      "MAE 9.799200297723512\n",
      "11.300879793471342\n",
      "[11.228283   14.22846969 10.16194319  8.98925966 11.89644343]\n",
      "MAE 10.488322958089416\n",
      "8.930007865615472 \n",
      " RandomForestRegressor(bootstrap=True, criterion='mse', max_depth=3,\n",
      "                      max_features='auto', max_leaf_nodes=None,\n",
      "                      min_impurity_decrease=0.0, min_impurity_split=None,\n",
      "                      min_samples_leaf=1, min_samples_split=2,\n",
      "                      min_weight_fraction_leaf=0.0, n_estimators=1, n_jobs=None,\n",
      "                      oob_score=False, random_state=12345, verbose=0,\n",
      "                      warm_start=False) \n",
      " RandomForestRegressor(bootstrap=True, criterion='mse', max_depth=1,\n",
      "                      max_features='auto', max_leaf_nodes=None,\n",
      "                      min_impurity_decrease=0.0, min_impurity_split=None,\n",
      "                      min_samples_leaf=1, min_samples_split=2,\n",
      "                      min_weight_fraction_leaf=0.0, n_estimators=1, n_jobs=None,\n",
      "                      oob_score=False, random_state=12345, verbose=0,\n",
      "                      warm_start=False)\n"
     ]
    }
   ],
   "source": [
    "target_rougher = data_train['rougher.output.recovery']\n",
    "target_final = data_train['final.output.recovery']\n",
    "\n",
    "\n",
    " \n",
    "best_mae = 100\n",
    "for depth in range(1, 6, 1): \n",
    "    model_rougher = RandomForestRegressor(n_estimators=1, max_depth=depth, random_state=12345)\n",
    "    score_rougher = (cross_val_score(model_rougher, features, target_rougher, cv = 5, scoring = make_scorer(smape, greater_is_better=False)) * -1)\n",
    "    final_score_rougher = score_rougher.mean()\n",
    "    print(final_score_final)\n",
    "    print(score_final)\n",
    "    for dep in range(1, 6, 1):\n",
    "        model_final = RandomForestRegressor(n_estimators=1, max_depth=dep, random_state=12345)\n",
    "        score_final = (cross_val_score(model_final, features, target_final, cv = 5, scoring = make_scorer(smape, greater_is_better=False)) * -1)\n",
    "        final_score_final = score_final.mean()\n",
    "        print(final_score_final)\n",
    "        print(score_final)\n",
    "\n",
    "        mae = smape_final(final_score_rougher, final_score_final)\n",
    "        print('MAE', mae)\n",
    "        if mae < best_mae:\n",
    "            best_mae = mae\n",
    "            best_model_1 = model_rougher\n",
    "            best_model_2 = model_final\n",
    "print(best_mae, '\\n', best_model_1,'\\n',  best_model_2)"
   ]
  },
  {
   "cell_type": "code",
   "execution_count": 30,
   "metadata": {},
   "outputs": [
    {
     "name": "stdout",
     "output_type": "stream",
     "text": [
      "6.631873577134662\n",
      "[8.20002061 6.77364429 4.72682477 5.5056193  7.95325892]\n",
      "9.499072940596587\n",
      "[ 9.571602    8.06427217  8.8543359  10.02977844 10.97537619]\n",
      "\n",
      "final sMAPE on RandomForestRegressor = 8.782273099731107\n"
     ]
    }
   ],
   "source": [
    "target_rougher = data_train['rougher.output.recovery']\n",
    "target_final = data_train['final.output.recovery']\n",
    "\n",
    " \n",
    "model_rougher = RandomForestRegressor(n_estimators=100, max_depth=3 , random_state=12345)\n",
    "score_rougher = (cross_val_score(model_rougher, features, target_rougher, cv = 5, scoring = make_scorer(smape, greater_is_better=False)) * -1)\n",
    "final_score_rougher = score_rougher.mean()\n",
    "print(final_score_rougher)\n",
    "print(score_rougher)\n",
    " \n",
    "model_final = RandomForestRegressor(n_estimators=100, max_depth=1 , random_state=12345)\n",
    "score_final = (cross_val_score(model_final, features, target_final, cv = 5, scoring = make_scorer(smape, greater_is_better=False)) * -1)\n",
    "final_score_final = score_final.mean()\n",
    "print(final_score_final)\n",
    "print(score_final)\n",
    " \n",
    "print('\\nfinal sMAPE on RandomForestRegressor =', smape_final(final_score_rougher, final_score_final))"
   ]
  },
  {
   "cell_type": "markdown",
   "metadata": {},
   "source": [
    "- final sMAPE on LinearRegression = 10.274257973543078\n",
    "- final sMAPE on Tree = 8.930007865615474\n",
    "- final sMAPE on RandomForestRegressor = 8.782195665708613\n",
    "- **Лучшая модель это Случайный лес \"RandomForestRegressor\"**"
   ]
  },
  {
   "cell_type": "code",
   "execution_count": 31,
   "metadata": {},
   "outputs": [
    {
     "name": "stdout",
     "output_type": "stream",
     "text": [
      "\n",
      "final sMAPE on RandomForestRegressor on Test_data = 9.271511624625838\n"
     ]
    }
   ],
   "source": [
    "target_rougher = data_train['rougher.output.recovery']\n",
    "target_final = data_train['final.output.recovery']\n",
    "features = data_train[data_test.columns]\n",
    "\n",
    "features_valid = data_test_new[data_test.columns]\n",
    "target_valid_rougher = data_test_new['rougher.output.recovery']\n",
    "target_valid_final = data_test_new['final.output.recovery']\n",
    "\n",
    "model_rougher = RandomForestRegressor(n_estimators=100, max_depth=3 , random_state=12345)\n",
    "model_rougher.fit(features, target_rougher)\n",
    "predicted_rougher = model_rougher.predict(features_valid)\n",
    "\n",
    "model_final = RandomForestRegressor(n_estimators=100, max_depth=1 , random_state=12345)\n",
    "model_final.fit(features, target_final)\n",
    "predicted_final = model_final.predict(features_valid)\n",
    "\n",
    "mae = smape_final(smape(target_valid_rougher, predicted_rougher), smape(target_valid_final, predicted_final))\n",
    "\n",
    "print('\\nfinal sMAPE on RandomForestRegressor on Test_data =', mae)"
   ]
  },
  {
   "cell_type": "markdown",
   "metadata": {},
   "source": [
    "**final sMAPE on RandomForestRegressor on Test_data = 8.996984836760245**"
   ]
  },
  {
   "cell_type": "code",
   "execution_count": 32,
   "metadata": {},
   "outputs": [
    {
     "name": "stdout",
     "output_type": "stream",
     "text": [
      "final sMAPE on Median = 9.450339967140751\n"
     ]
    }
   ],
   "source": [
    "# целевой столбец обучающей выборки\n",
    "target_rougher = data_train['rougher.output.recovery']\n",
    "target_final = data_train['final.output.recovery']\n",
    "\n",
    "# вектор предсказаний константной модели для объектов тестовой выборки\n",
    "predicted_rougher = pd.Series(target_rougher.median(), index=target_valid_rougher.index)\n",
    "predicted_final = pd.Series(target_final.median(), index=target_valid_final.index)\n",
    "\n",
    "# sMAPE константной модели \n",
    "smape_1 = smape(target_valid_rougher, predicted_rougher)\n",
    "smape_2 = smape(target_valid_final, predicted_final) \n",
    "print('final sMAPE on Median =', smape_final(smape_1, smape_2))"
   ]
  },
  {
   "cell_type": "markdown",
   "metadata": {},
   "source": [
    "***Модель предсказывает похожий результат. Различие очень мало. Модель адекватна, но получается результат чуть лучше, чем с медианой.***"
   ]
  },
  {
   "cell_type": "markdown",
   "metadata": {},
   "source": [
    "<a id=\"8-bullet\"></a>\n",
    "\n",
    "#  4. Вывод\n",
    "**Что делать с свинцом непонятно, его концентрация после очистки почти не падает. Мне кажется не нормальным. Есть небольшая погрешность между расчетами и значением признака rougher.output.recovery. Распределение на обучающей и тестовой выборках отличаются не сильно. В выборках есть очень маленькие значения. Это связано с маленькой концентрацией веществ. Эти значения я удалил. Лучшая модель это RandomForestRegressor. Модель адекватна. Но мне кажется, что наша модель не сильно поможет. Потому что мы получаем результат лучше, чем, когда берем медиану.**"
   ]
  }
 ],
 "metadata": {
  "kernelspec": {
   "display_name": "Python 3",
   "language": "python",
   "name": "python3"
  },
  "language_info": {
   "codemirror_mode": {
    "name": "ipython",
    "version": 3
   },
   "file_extension": ".py",
   "mimetype": "text/x-python",
   "name": "python",
   "nbconvert_exporter": "python",
   "pygments_lexer": "ipython3",
   "version": "3.7.8"
  },
  "toc": {
   "base_numbering": 1,
   "nav_menu": {},
   "number_sections": true,
   "sideBar": true,
   "skip_h1_title": false,
   "title_cell": "Table of Contents",
   "title_sidebar": "Contents",
   "toc_cell": false,
   "toc_position": {},
   "toc_section_display": true,
   "toc_window_display": false
  }
 },
 "nbformat": 4,
 "nbformat_minor": 2
}
